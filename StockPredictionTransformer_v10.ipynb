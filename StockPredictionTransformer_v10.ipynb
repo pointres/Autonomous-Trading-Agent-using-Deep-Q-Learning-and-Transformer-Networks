{
  "cells": [
    {
      "cell_type": "markdown",
      "metadata": {
        "id": "vwIdDTTmmZVe"
      },
      "source": [
        "# Read this section importantly!"
      ]
    },
    {
      "cell_type": "code",
      "execution_count": 1,
      "metadata": {
        "colab": {
          "base_uri": "https://localhost:8080/"
        },
        "id": "8UK7J-dp5iN5",
        "outputId": "c746e89b-5ddd-4da5-dd11-27260e575008"
      },
      "outputs": [
        {
          "output_type": "stream",
          "name": "stdout",
          "text": [
            "Sun Apr 23 16:30:38 2023       \n",
            "+-----------------------------------------------------------------------------+\n",
            "| NVIDIA-SMI 525.85.12    Driver Version: 525.85.12    CUDA Version: 12.0     |\n",
            "|-------------------------------+----------------------+----------------------+\n",
            "| GPU  Name        Persistence-M| Bus-Id        Disp.A | Volatile Uncorr. ECC |\n",
            "| Fan  Temp  Perf  Pwr:Usage/Cap|         Memory-Usage | GPU-Util  Compute M. |\n",
            "|                               |                      |               MIG M. |\n",
            "|===============================+======================+======================|\n",
            "|   0  Tesla T4            Off  | 00000000:00:04.0 Off |                    0 |\n",
            "| N/A   43C    P8    10W /  70W |      0MiB / 15360MiB |      0%      Default |\n",
            "|                               |                      |                  N/A |\n",
            "+-------------------------------+----------------------+----------------------+\n",
            "                                                                               \n",
            "+-----------------------------------------------------------------------------+\n",
            "| Processes:                                                                  |\n",
            "|  GPU   GI   CI        PID   Type   Process name                  GPU Memory |\n",
            "|        ID   ID                                                   Usage      |\n",
            "|=============================================================================|\n",
            "|  No running processes found                                                 |\n",
            "+-----------------------------------------------------------------------------+\n"
          ]
        }
      ],
      "source": [
        "!nvidia-smi"
      ]
    },
    {
      "cell_type": "code",
      "execution_count": 2,
      "metadata": {
        "id": "nYgaLmgy5iqR",
        "colab": {
          "base_uri": "https://localhost:8080/"
        },
        "outputId": "50f5bf2d-ac95-412c-8610-0f69ab316362"
      },
      "outputs": [
        {
          "output_type": "stream",
          "name": "stdout",
          "text": [
            "\u001b[2K     \u001b[90m━━━━━━━━━━━━━━━━━━━━━━━━━━━━━━━━━━━━━━━\u001b[0m \u001b[32m175.5/175.5 kB\u001b[0m \u001b[31m2.6 MB/s\u001b[0m eta \u001b[36m0:00:00\u001b[0m\n",
            "\u001b[2K     \u001b[90m━━━━━━━━━━━━━━━━━━━━━━━━━━━━━━━━━━━━━━━━\u001b[0m \u001b[32m3.1/3.1 MB\u001b[0m \u001b[31m24.2 MB/s\u001b[0m eta \u001b[36m0:00:00\u001b[0m\n",
            "\u001b[?25h"
          ]
        }
      ],
      "source": [
        "# Install some required libraries\n",
        "# Feel free to add more if you want\n",
        "!pip install -q python-levenshtein torchsummaryX"
      ]
    },
    {
      "cell_type": "code",
      "execution_count": 3,
      "metadata": {
        "id": "YSCjc2_m6rQ2",
        "colab": {
          "base_uri": "https://localhost:8080/"
        },
        "outputId": "40ed7f45-c146-457e-f03c-bc2c99c886f2"
      },
      "outputs": [
        {
          "output_type": "stream",
          "name": "stdout",
          "text": [
            "\u001b[2K     \u001b[90m━━━━━━━━━━━━━━━━━━━━━━━━━━━━━━━━━━━━━━━━\u001b[0m \u001b[32m7.0/7.0 MB\u001b[0m \u001b[31m38.0 MB/s\u001b[0m eta \u001b[36m0:00:00\u001b[0m\n",
            "\u001b[2K     \u001b[90m━━━━━━━━━━━━━━━━━━━━━━━━━━━━━━━━━━━━━━━━\u001b[0m \u001b[32m7.8/7.8 MB\u001b[0m \u001b[31m24.9 MB/s\u001b[0m eta \u001b[36m0:00:00\u001b[0m\n",
            "\u001b[2K     \u001b[90m━━━━━━━━━━━━━━━━━━━━━━━━━━━━━━━━━━━━━━\u001b[0m \u001b[32m200.1/200.1 kB\u001b[0m \u001b[31m10.2 MB/s\u001b[0m eta \u001b[36m0:00:00\u001b[0m\n",
            "\u001b[?25h"
          ]
        }
      ],
      "source": [
        "pip install transformers --quiet"
      ]
    },
    {
      "cell_type": "code",
      "execution_count": 4,
      "metadata": {
        "colab": {
          "base_uri": "https://localhost:8080/"
        },
        "id": "qp6m8Z2jyCyx",
        "outputId": "73ba8d08-f577-4dc1-bdbe-ce23617aab30"
      },
      "outputs": [
        {
          "output_type": "stream",
          "name": "stdout",
          "text": [
            "Device:  cuda\n",
            "Device:  cuda\n"
          ]
        }
      ],
      "source": [
        "import torch\n",
        "import random\n",
        "import numpy as np\n",
        "import torch.nn as nn\n",
        "import torch.nn.functional as F\n",
        "from torchsummaryX import summary\n",
        "from torch.utils.data import Dataset, DataLoader\n",
        "from torch.nn.utils.rnn import pad_sequence, pack_padded_sequence, pad_packed_sequence\n",
        "import torchvision.transforms as tvt\n",
        "import torchaudio.transforms as tat\n",
        "import pandas as pd\n",
        "\n",
        "from matplotlib import pyplot as plt\n",
        "from sklearn.metrics import accuracy_score\n",
        "from sklearn.preprocessing import StandardScaler\n",
        "import gc\n",
        "\n",
        "import zipfile\n",
        "import pandas as pd\n",
        "from tqdm import tqdm\n",
        "import os\n",
        "import datetime\n",
        "\n",
        "import warnings\n",
        "warnings.filterwarnings('ignore')\n",
        "\n",
        "device = 'cuda' if torch.cuda.is_available() else 'cpu'\n",
        "print(\"Device: \", device)\n",
        "DEVICE = \"cuda\" if torch.cuda.is_available() else \"cpu\"\n",
        "print(\"Device: \", DEVICE)"
      ]
    },
    {
      "cell_type": "markdown",
      "metadata": {
        "id": "zUJyBBwIqQs6"
      },
      "source": [
        "# Dataset and Dataloaders\n",
        "\n",
        "In terms of the dataset, the dataset structure for HW3P2 and HW4P2 dataset are very similar. Can you spot out the differences? What all will be required?? \n",
        "\n",
        "Hints:\n",
        "\n",
        "- Check how big is the dataset (do you require memory efficient loading techniques??)\n",
        "- How do we load mfccs? Do we need to normalise them? \n",
        "- Does the data have \\<SOS> and \\<EOS> tokens in each sequences? Do we remove them or do we not remove them? (Read writeup)\n",
        "- Would we want a collating function? Ask yourself: Why did we need a collate function last time?\n",
        "- Observe the VOCAB, is the dataset same as HW3P2? \n",
        "- Should you add augmentations, if yes which augmentations? When should you add augmentations? (Check bootcamp for answer)\n"
      ]
    },
    {
      "cell_type": "code",
      "execution_count": 6,
      "metadata": {
        "colab": {
          "base_uri": "https://localhost:8080/",
          "height": 442
        },
        "id": "IU8XXOzGWWfX",
        "outputId": "0f7e3edb-f57d-491e-aae0-c25ef7894fc8"
      },
      "outputs": [
        {
          "output_type": "stream",
          "name": "stdout",
          "text": [
            "Index(['Open', 'High', 'Low', 'Close', 'Volume', 'change', 'delta', 'SMA30'], dtype='object')\n"
          ]
        },
        {
          "output_type": "execute_result",
          "data": {
            "text/plain": [
              "      index        Open        High         Low       Close    Volume  \\\n",
              "0         0   53.060001   54.250000   52.854500   53.967999  54584000   \n",
              "1         1   53.950500   54.099998   53.526001   53.769501  31126000   \n",
              "2         2   53.451000   54.875500   53.451000   54.472500  39884000   \n",
              "3         3   54.213501   54.737499   53.605000   53.866001  42434000   \n",
              "4         4   54.148998   54.400002   53.334000   53.690498  69590000   \n",
              "...     ...         ...         ...         ...         ...       ...   \n",
              "1253   1253  106.980003  107.589996  105.120003  106.440002  27067400   \n",
              "1254   1254  106.550003  106.730003  104.680000  105.349998  26311800   \n",
              "1255   1255  106.580002  106.750000  104.339996  104.639999  24370300   \n",
              "1256   1256  105.839996  107.489998  105.839996  107.430000  24843600   \n",
              "1257   1257  106.889999  108.940002  106.839996  108.870003  26547800   \n",
              "\n",
              "        change  delta       SMA30  \n",
              "0    -0.198498    0.0   52.671500  \n",
              "1    -0.198498    0.0   52.671500  \n",
              "2     0.702999    1.0   52.671500  \n",
              "3    -0.606499    0.0   52.671500  \n",
              "4    -0.175503    0.0   52.671500  \n",
              "...        ...    ...         ...  \n",
              "1253 -1.979996    0.0  103.791000  \n",
              "1254 -1.090004    0.0  104.080000  \n",
              "1255 -0.709999    0.0  104.441000  \n",
              "1256  2.790001    1.0  105.045000  \n",
              "1257  1.440003    1.0  105.843001  \n",
              "\n",
              "[1258 rows x 9 columns]"
            ],
            "text/html": [
              "\n",
              "  <div id=\"df-8de516c2-9382-4017-961e-c0d49c3c530a\">\n",
              "    <div class=\"colab-df-container\">\n",
              "      <div>\n",
              "<style scoped>\n",
              "    .dataframe tbody tr th:only-of-type {\n",
              "        vertical-align: middle;\n",
              "    }\n",
              "\n",
              "    .dataframe tbody tr th {\n",
              "        vertical-align: top;\n",
              "    }\n",
              "\n",
              "    .dataframe thead th {\n",
              "        text-align: right;\n",
              "    }\n",
              "</style>\n",
              "<table border=\"1\" class=\"dataframe\">\n",
              "  <thead>\n",
              "    <tr style=\"text-align: right;\">\n",
              "      <th></th>\n",
              "      <th>index</th>\n",
              "      <th>Open</th>\n",
              "      <th>High</th>\n",
              "      <th>Low</th>\n",
              "      <th>Close</th>\n",
              "      <th>Volume</th>\n",
              "      <th>change</th>\n",
              "      <th>delta</th>\n",
              "      <th>SMA30</th>\n",
              "    </tr>\n",
              "  </thead>\n",
              "  <tbody>\n",
              "    <tr>\n",
              "      <th>0</th>\n",
              "      <td>0</td>\n",
              "      <td>53.060001</td>\n",
              "      <td>54.250000</td>\n",
              "      <td>52.854500</td>\n",
              "      <td>53.967999</td>\n",
              "      <td>54584000</td>\n",
              "      <td>-0.198498</td>\n",
              "      <td>0.0</td>\n",
              "      <td>52.671500</td>\n",
              "    </tr>\n",
              "    <tr>\n",
              "      <th>1</th>\n",
              "      <td>1</td>\n",
              "      <td>53.950500</td>\n",
              "      <td>54.099998</td>\n",
              "      <td>53.526001</td>\n",
              "      <td>53.769501</td>\n",
              "      <td>31126000</td>\n",
              "      <td>-0.198498</td>\n",
              "      <td>0.0</td>\n",
              "      <td>52.671500</td>\n",
              "    </tr>\n",
              "    <tr>\n",
              "      <th>2</th>\n",
              "      <td>2</td>\n",
              "      <td>53.451000</td>\n",
              "      <td>54.875500</td>\n",
              "      <td>53.451000</td>\n",
              "      <td>54.472500</td>\n",
              "      <td>39884000</td>\n",
              "      <td>0.702999</td>\n",
              "      <td>1.0</td>\n",
              "      <td>52.671500</td>\n",
              "    </tr>\n",
              "    <tr>\n",
              "      <th>3</th>\n",
              "      <td>3</td>\n",
              "      <td>54.213501</td>\n",
              "      <td>54.737499</td>\n",
              "      <td>53.605000</td>\n",
              "      <td>53.866001</td>\n",
              "      <td>42434000</td>\n",
              "      <td>-0.606499</td>\n",
              "      <td>0.0</td>\n",
              "      <td>52.671500</td>\n",
              "    </tr>\n",
              "    <tr>\n",
              "      <th>4</th>\n",
              "      <td>4</td>\n",
              "      <td>54.148998</td>\n",
              "      <td>54.400002</td>\n",
              "      <td>53.334000</td>\n",
              "      <td>53.690498</td>\n",
              "      <td>69590000</td>\n",
              "      <td>-0.175503</td>\n",
              "      <td>0.0</td>\n",
              "      <td>52.671500</td>\n",
              "    </tr>\n",
              "    <tr>\n",
              "      <th>...</th>\n",
              "      <td>...</td>\n",
              "      <td>...</td>\n",
              "      <td>...</td>\n",
              "      <td>...</td>\n",
              "      <td>...</td>\n",
              "      <td>...</td>\n",
              "      <td>...</td>\n",
              "      <td>...</td>\n",
              "      <td>...</td>\n",
              "    </tr>\n",
              "    <tr>\n",
              "      <th>1253</th>\n",
              "      <td>1253</td>\n",
              "      <td>106.980003</td>\n",
              "      <td>107.589996</td>\n",
              "      <td>105.120003</td>\n",
              "      <td>106.440002</td>\n",
              "      <td>27067400</td>\n",
              "      <td>-1.979996</td>\n",
              "      <td>0.0</td>\n",
              "      <td>103.791000</td>\n",
              "    </tr>\n",
              "    <tr>\n",
              "      <th>1254</th>\n",
              "      <td>1254</td>\n",
              "      <td>106.550003</td>\n",
              "      <td>106.730003</td>\n",
              "      <td>104.680000</td>\n",
              "      <td>105.349998</td>\n",
              "      <td>26311800</td>\n",
              "      <td>-1.090004</td>\n",
              "      <td>0.0</td>\n",
              "      <td>104.080000</td>\n",
              "    </tr>\n",
              "    <tr>\n",
              "      <th>1255</th>\n",
              "      <td>1255</td>\n",
              "      <td>106.580002</td>\n",
              "      <td>106.750000</td>\n",
              "      <td>104.339996</td>\n",
              "      <td>104.639999</td>\n",
              "      <td>24370300</td>\n",
              "      <td>-0.709999</td>\n",
              "      <td>0.0</td>\n",
              "      <td>104.441000</td>\n",
              "    </tr>\n",
              "    <tr>\n",
              "      <th>1256</th>\n",
              "      <td>1256</td>\n",
              "      <td>105.839996</td>\n",
              "      <td>107.489998</td>\n",
              "      <td>105.839996</td>\n",
              "      <td>107.430000</td>\n",
              "      <td>24843600</td>\n",
              "      <td>2.790001</td>\n",
              "      <td>1.0</td>\n",
              "      <td>105.045000</td>\n",
              "    </tr>\n",
              "    <tr>\n",
              "      <th>1257</th>\n",
              "      <td>1257</td>\n",
              "      <td>106.889999</td>\n",
              "      <td>108.940002</td>\n",
              "      <td>106.839996</td>\n",
              "      <td>108.870003</td>\n",
              "      <td>26547800</td>\n",
              "      <td>1.440003</td>\n",
              "      <td>1.0</td>\n",
              "      <td>105.843001</td>\n",
              "    </tr>\n",
              "  </tbody>\n",
              "</table>\n",
              "<p>1258 rows × 9 columns</p>\n",
              "</div>\n",
              "      <button class=\"colab-df-convert\" onclick=\"convertToInteractive('df-8de516c2-9382-4017-961e-c0d49c3c530a')\"\n",
              "              title=\"Convert this dataframe to an interactive table.\"\n",
              "              style=\"display:none;\">\n",
              "        \n",
              "  <svg xmlns=\"http://www.w3.org/2000/svg\" height=\"24px\"viewBox=\"0 0 24 24\"\n",
              "       width=\"24px\">\n",
              "    <path d=\"M0 0h24v24H0V0z\" fill=\"none\"/>\n",
              "    <path d=\"M18.56 5.44l.94 2.06.94-2.06 2.06-.94-2.06-.94-.94-2.06-.94 2.06-2.06.94zm-11 1L8.5 8.5l.94-2.06 2.06-.94-2.06-.94L8.5 2.5l-.94 2.06-2.06.94zm10 10l.94 2.06.94-2.06 2.06-.94-2.06-.94-.94-2.06-.94 2.06-2.06.94z\"/><path d=\"M17.41 7.96l-1.37-1.37c-.4-.4-.92-.59-1.43-.59-.52 0-1.04.2-1.43.59L10.3 9.45l-7.72 7.72c-.78.78-.78 2.05 0 2.83L4 21.41c.39.39.9.59 1.41.59.51 0 1.02-.2 1.41-.59l7.78-7.78 2.81-2.81c.8-.78.8-2.07 0-2.86zM5.41 20L4 18.59l7.72-7.72 1.47 1.35L5.41 20z\"/>\n",
              "  </svg>\n",
              "      </button>\n",
              "      \n",
              "  <style>\n",
              "    .colab-df-container {\n",
              "      display:flex;\n",
              "      flex-wrap:wrap;\n",
              "      gap: 12px;\n",
              "    }\n",
              "\n",
              "    .colab-df-convert {\n",
              "      background-color: #E8F0FE;\n",
              "      border: none;\n",
              "      border-radius: 50%;\n",
              "      cursor: pointer;\n",
              "      display: none;\n",
              "      fill: #1967D2;\n",
              "      height: 32px;\n",
              "      padding: 0 0 0 0;\n",
              "      width: 32px;\n",
              "    }\n",
              "\n",
              "    .colab-df-convert:hover {\n",
              "      background-color: #E2EBFA;\n",
              "      box-shadow: 0px 1px 2px rgba(60, 64, 67, 0.3), 0px 1px 3px 1px rgba(60, 64, 67, 0.15);\n",
              "      fill: #174EA6;\n",
              "    }\n",
              "\n",
              "    [theme=dark] .colab-df-convert {\n",
              "      background-color: #3B4455;\n",
              "      fill: #D2E3FC;\n",
              "    }\n",
              "\n",
              "    [theme=dark] .colab-df-convert:hover {\n",
              "      background-color: #434B5C;\n",
              "      box-shadow: 0px 1px 3px 1px rgba(0, 0, 0, 0.15);\n",
              "      filter: drop-shadow(0px 1px 2px rgba(0, 0, 0, 0.3));\n",
              "      fill: #FFFFFF;\n",
              "    }\n",
              "  </style>\n",
              "\n",
              "      <script>\n",
              "        const buttonEl =\n",
              "          document.querySelector('#df-8de516c2-9382-4017-961e-c0d49c3c530a button.colab-df-convert');\n",
              "        buttonEl.style.display =\n",
              "          google.colab.kernel.accessAllowed ? 'block' : 'none';\n",
              "\n",
              "        async function convertToInteractive(key) {\n",
              "          const element = document.querySelector('#df-8de516c2-9382-4017-961e-c0d49c3c530a');\n",
              "          const dataTable =\n",
              "            await google.colab.kernel.invokeFunction('convertToInteractive',\n",
              "                                                     [key], {});\n",
              "          if (!dataTable) return;\n",
              "\n",
              "          const docLinkHtml = 'Like what you see? Visit the ' +\n",
              "            '<a target=\"_blank\" href=https://colab.research.google.com/notebooks/data_table.ipynb>data table notebook</a>'\n",
              "            + ' to learn more about interactive tables.';\n",
              "          element.innerHTML = '';\n",
              "          dataTable['output_type'] = 'display_data';\n",
              "          await google.colab.output.renderOutput(dataTable, element);\n",
              "          const docLink = document.createElement('div');\n",
              "          docLink.innerHTML = docLinkHtml;\n",
              "          element.appendChild(docLink);\n",
              "        }\n",
              "      </script>\n",
              "    </div>\n",
              "  </div>\n",
              "  "
            ]
          },
          "metadata": {},
          "execution_count": 6
        }
      ],
      "source": [
        "def technical_indicators(df):\n",
        "  df_close=df['Close']\n",
        "  df_close=pd.DataFrame(df_close, columns=['Close'])\n",
        "  df11=df_close.reset_index()\n",
        "  #RSI\n",
        "  df11['change'] = df11['Close'].diff()\n",
        "  df['change']=df11['change']\n",
        "  df['delta']=(df['change']>0)*1.\n",
        "  def rma(x, n):\n",
        "      \"\"\"Running moving average\"\"\"\n",
        "      a = np.full_like(x, np.nan)\n",
        "      a[n] = x[1:n+1].mean()\n",
        "      for i in range(n+1, len(x)):\n",
        "          a[i] = (a[i-1] * (n - 1) + x[i]) / n\n",
        "      return a\n",
        "\n",
        "  #SMA  #10days\n",
        "  df11['SMA30'] = df11['Close'].rolling(10).mean()\n",
        "\n",
        "  df11.drop(columns=['Close','change','index'], inplace=True)\n",
        "  df_cat=pd.concat([df, df11], axis=1)\n",
        "  df_cat.fillna(method='bfill', axis=0, inplace=True)\n",
        "  df_cat.fillna(method='ffill', axis=0, inplace=True)\n",
        "  return df_cat\n",
        "APPL_price = pd.read_csv(\"GOOGL.csv\")\n",
        "APPL=technical_indicators(APPL_price).drop(columns=['Date','Adj Close'])\n",
        "print(APPL.columns)\n",
        "APPL=APPL.reset_index()\n",
        "APPL"
      ]
    },
    {
      "cell_type": "code",
      "execution_count": 7,
      "metadata": {
        "id": "523J0lRK52__",
        "colab": {
          "base_uri": "https://localhost:8080/"
        },
        "outputId": "5504f398-58f1-43e4-d3c1-f419c7e6682f"
      },
      "outputs": [
        {
          "output_type": "execute_result",
          "data": {
            "text/plain": [
              "array([[-1.73067453, -1.17042469, -1.15296776, ..., -0.13259901,\n",
              "        -1.04721854, -1.18043735],\n",
              "       [-1.72792087, -1.14067114, -1.15793104, ..., -0.13259901,\n",
              "        -1.04721854, -1.18043735],\n",
              "       [-1.72516721, -1.15736054, -1.13227119, ...,  0.36139377,\n",
              "         0.95491052, -1.18043735],\n",
              "       ...,\n",
              "       [ 1.72516721,  0.61779749,  0.58415497, ..., -0.41288591,\n",
              "        -1.04721854,  0.55264834],\n",
              "       [ 1.72792087,  0.59307225,  0.60864006, ...,  1.50500702,\n",
              "         0.95491052,  0.57286843],\n",
              "       [ 1.73067453,  0.62815518,  0.65661787, ...,  0.76524941,\n",
              "         0.95491052,  0.59958306]])"
            ]
          },
          "metadata": {},
          "execution_count": 7
        }
      ],
      "source": [
        "#Normalize time series\n",
        "scaler = StandardScaler()\n",
        "dataset_standard = scaler.fit_transform(APPL)\n",
        "dataset=dataset_standard\n",
        "dataset_standard"
      ]
    },
    {
      "cell_type": "code",
      "source": [
        "plt.plot(dataset_standard[:,4]) #plot closing price"
      ],
      "metadata": {
        "colab": {
          "base_uri": "https://localhost:8080/",
          "height": 448
        },
        "id": "x-rRJVI2gnQl",
        "outputId": "d430fff8-e8dc-4476-bd65-26d5e6c8eb85"
      },
      "execution_count": 8,
      "outputs": [
        {
          "output_type": "execute_result",
          "data": {
            "text/plain": [
              "[<matplotlib.lines.Line2D at 0x7f892e902040>]"
            ]
          },
          "metadata": {},
          "execution_count": 8
        },
        {
          "output_type": "display_data",
          "data": {
            "text/plain": [
              "<Figure size 640x480 with 1 Axes>"
            ],
            "image/png": "[encoded data removed]"
          },
          "metadata": {}
        }
      ]
    },
    {
      "cell_type": "code",
      "execution_count": 9,
      "metadata": {
        "id": "MBMLGYX-kZcd"
      },
      "outputs": [],
      "source": [
        "#TODO: try to tune this\n",
        "config = {\n",
        "  'batch_size': 64,\n",
        "  'lr':1e-4,\n",
        "  'epochs': 30,\n",
        "}"
      ]
    },
    {
      "cell_type": "code",
      "execution_count": 10,
      "metadata": {
        "id": "3gJPgHByLn0l"
      },
      "outputs": [],
      "source": [
        "class TransformerDataset(Dataset):\n",
        "    def __init__(self, data, indices, enc_seq_len, pred_seq_len) :\n",
        "        super().__init__()\n",
        "        self.data = data\n",
        "        self.indices = indices\n",
        "        self.enc_seq_len = enc_seq_len\n",
        "        self.pred_seq_len = pred_seq_len\n",
        "\n",
        "    def __len__(self):\n",
        "        return len(self.indices)\n",
        "\n",
        "    def get_src_tgt(self, sequence, encoder_seq_len, pred_seq_len) :\n",
        "                          #65 days     60 days,      5 days\n",
        "        # encoder input\n",
        "        window_len=len(sequence)\n",
        "        src = sequence[:encoder_seq_len]      #0~59 inclusive\n",
        "        \n",
        "        tgt = sequence[encoder_seq_len-1:window_len-1]     #59~63 inclusive\n",
        "\n",
        "        true = sequence[-pred_seq_len:]     #60~64 inclusive\n",
        "\n",
        "        return src, tgt, true\n",
        "\n",
        "    def __getitem__(self, index):\n",
        "        start, end = self.indices[index]\n",
        "        sequence = self.data[start:end]\n",
        "        src, tgt, true = self.get_src_tgt(sequence, self.enc_seq_len, self.pred_seq_len)\n",
        "\n",
        "        return src, tgt, true\n",
        "    "
      ]
    },
    {
      "cell_type": "code",
      "source": [
        "def get_windows(data, window_size, step_size):\n",
        "    # Start the first sub-sequence at index position 0\n",
        "    start = 0\n",
        "    end = window_size\n",
        "    \n",
        "    indices = []\n",
        "    while end <= len(data)-1:      #proceed window by step size, count how many sequences \n",
        "        indices.append((start, end))\n",
        "        start += step_size\n",
        "        end += step_size\n",
        "    return indices"
      ],
      "metadata": {
        "id": "Nv70lWYHnUxX"
      },
      "execution_count": 11,
      "outputs": []
    },
    {
      "cell_type": "code",
      "source": [
        "dataset=dataset.tolist()*1  #TODO: try to Tune, to repeat stock price make longer dataset\n",
        "len(dataset)\n",
        "a=int(0.7*len(dataset))\n",
        "X_train=dataset[0:a]\n",
        "X_test=dataset[a:]\n",
        "print(len(X_train))\n",
        "len(X_test)\n"
      ],
      "metadata": {
        "id": "vxdubeNkrybs",
        "colab": {
          "base_uri": "https://localhost:8080/"
        },
        "outputId": "a6eb3b1b-625a-4a3e-affe-5906a3265f9b"
      },
      "execution_count": 12,
      "outputs": [
        {
          "output_type": "stream",
          "name": "stdout",
          "text": [
            "880\n"
          ]
        },
        {
          "output_type": "execute_result",
          "data": {
            "text/plain": [
              "378"
            ]
          },
          "metadata": {},
          "execution_count": 12
        }
      ]
    },
    {
      "cell_type": "code",
      "source": [
        "# plt.plot(np.array(X_train)[:,4])"
      ],
      "metadata": {
        "id": "u-JhxF5sLg6p"
      },
      "execution_count": null,
      "outputs": []
    },
    {
      "cell_type": "code",
      "execution_count": 13,
      "metadata": {
        "colab": {
          "base_uri": "https://localhost:8080/",
          "height": 662
        },
        "id": "RqcG5tHjNK58",
        "outputId": "319ebf94-3613-44c1-f44f-09372dd518a4"
      },
      "outputs": [
        {
          "output_type": "stream",
          "name": "stdout",
          "text": [
            "torch.Size([128, 60, 9]) torch.Size([128, 10, 9])\n",
            "x:  tensor([-1.1498, -1.1375, -1.1326, -1.1321, -1.1323, -1.1319, -1.1281, -1.1255,\n",
            "        -1.1224, -1.1205, -1.1144, -1.1111, -1.1054, -1.0932, -1.0867, -1.0831,\n",
            "        -1.0829, -1.0792, -1.0696, -1.0644, -1.0639, -1.0637, -1.0662, -1.0714,\n",
            "        -1.0746, -1.0728, -1.0703, -1.0670, -1.0677, -1.0681, -1.0649, -1.0592,\n",
            "        -1.0521, -1.0446, -1.0368, -1.0312, -1.0209, -1.0083, -0.9955, -0.9845,\n",
            "        -0.9775, -0.9716, -0.9660, -0.9557, -0.9415, -0.9318, -0.9288, -0.9300,\n",
            "        -0.9335, -0.9369, -0.9392, -0.9374, -0.9369, -0.9395, -0.9423, -0.9417,\n",
            "        -0.9399, -0.9377, -0.9330, -0.9267])\n",
            "tgt:  tensor([-0.9267, -0.9190, -0.9144, -0.9100, -0.9051, -0.9014, -0.8943, -0.8839,\n",
            "        -0.8743, -0.8641])\n",
            "y_train:  tensor([-0.9190, -0.9144, -0.9100, -0.9051, -0.9014, -0.8943, -0.8839, -0.8743,\n",
            "        -0.8641, -0.8528])\n"
          ]
        },
        {
          "output_type": "display_data",
          "data": {
            "text/plain": [
              "<Figure size 640x480 with 1 Axes>"
            ],
            "image/png": "[encoded data removed]"
          },
          "metadata": {}
        }
      ],
      "source": [
        "# Dataset Dataloader:\n",
        "#TODO: tune context_len and pred_len\n",
        "context_len=60\n",
        "pred_len=10\n",
        "window_size=context_len+pred_len\n",
        "training_indices = get_windows(X_train, window_size, step_size=3) #TODO: Tune step size... \n",
        "val_indices = get_windows(X_test, window_size, step_size=1) #TODO: Tune step size... \n",
        "test_indices = get_windows(dataset, window_size, step_size=1) \n",
        "\n",
        "# print(training_indices)\n",
        "train_data=TransformerDataset(torch.FloatTensor(X_train), training_indices, context_len, pred_len) \n",
        "val_data=TransformerDataset(torch.FloatTensor(X_test), val_indices, context_len, pred_len) \n",
        "test_data=TransformerDataset(torch.FloatTensor(dataset), test_indices, context_len, pred_len) \n",
        "\n",
        "train_loader = torch.utils.data.DataLoader(\n",
        "    dataset     = train_data, \n",
        "    batch_size  = 128,\n",
        "    shuffle=True\n",
        ")\n",
        "val_loader = torch.utils.data.DataLoader(\n",
        "    dataset     = val_data, \n",
        "    batch_size  = 24,\n",
        "    drop_last=True\n",
        ")\n",
        "test_loader = torch.utils.data.DataLoader(\n",
        "    dataset     = test_data, \n",
        "    batch_size  = 1,\n",
        "    pin_memory  = False\n",
        ")\n",
        "\n",
        "for batch in train_loader: \n",
        "    src, tgt, y_train=batch\n",
        "    print(src.shape, tgt.shape)\n",
        "    print(\"x: \", src[0,:,-1])   #60 days context  \n",
        "    print(\"tgt: \", tgt[0,:,-1]) #should be next five days \n",
        "    print(\"y_train: \", y_train[0,:,-1])  #True label should shift by one to right\n",
        "    plt.plot(src[0,:,-1])\n",
        "    plt.plot(src[1,:,-1])\n",
        "    plt.plot(src[2,:,-1])\n",
        "    plt.plot(src[3,:,-1]) #should shift by step size in graph below\n",
        "    break"
      ]
    },
    {
      "cell_type": "code",
      "source": [
        "class PositionalEncoder(nn.Module):\n",
        "    def __init__(self, dropout= 0.1, max_seq_len = 5000, d_model = 512):\n",
        "\n",
        "        super().__init__()\n",
        "        self.d_model = d_model\n",
        "        self.dropout = nn.Dropout(p=dropout)\n",
        "        position = torch.arange(max_seq_len).unsqueeze(1)\n",
        "        exp_input = torch.arange(0, d_model, 2) * (-np.log(10000.0) / d_model) \n",
        "        div_term = torch.exp(exp_input) # Returns a new tensor with the exponential of the elements of exp_input\n",
        "        pe = torch.zeros(max_seq_len, d_model)\n",
        "        pe[:, 0::2] = torch.sin(position * div_term)\n",
        "        pe[:, 1::2] = torch.cos(position * div_term) # torch.Size([target_seq_len, dim_val])\n",
        "        pe = pe.unsqueeze(0).transpose(0, 1) # torch.Size([target_seq_len, input_size, dim_val])\n",
        "        # register that pe is not a model parameter\n",
        "        self.register_buffer('pe', pe)\n",
        "        \n",
        "    def forward(self, x) :\n",
        "        add = self.pe[:x.size(1), :].squeeze(1)\n",
        "        x = x + add\n",
        "        return self.dropout(x)\n"
      ],
      "metadata": {
        "id": "pD45S1-QC7yO"
      },
      "execution_count": 14,
      "outputs": []
    },
    {
      "cell_type": "code",
      "execution_count": 15,
      "metadata": {
        "id": "771TXxn7ViOW"
      },
      "outputs": [],
      "source": [
        "class Transformer(nn.Module):\n",
        "    def __init__(self, input_dim, output_dim, d_model=512, nhead=8, num_encoder_layers=6, num_decoder_layers=6, dim_feedforward=2048, dropout=0.1,encode_seq_len=60,pred_seq_len=10):\n",
        "        super(Transformer, self).__init__()\n",
        "        self.nhead=nhead\n",
        "        self.d_model=d_model\n",
        "        self.encode_seq_len=encode_seq_len\n",
        "        self.embedding = nn.Linear(input_dim, d_model) \n",
        "        \n",
        "        encoder_layer = nn.TransformerEncoderLayer(d_model=d_model, nhead=nhead, dim_feedforward=dim_feedforward, dropout=dropout, batch_first=True)\n",
        "        self.encoder = nn.TransformerEncoder(encoder_layer, num_layers=num_encoder_layers)\n",
        "\n",
        "        decoder_layer = nn.TransformerDecoderLayer(d_model=d_model, nhead=nhead, dim_feedforward=dim_feedforward, dropout=dropout, batch_first=True)\n",
        "        self.decoder = nn.TransformerDecoder(decoder_layer, num_layers=num_decoder_layers)\n",
        "        self.pred_seq_len=pred_seq_len\n",
        "        self.linear_out = nn.Linear(d_model*pred_seq_len, pred_seq_len)\n",
        "        self.positional_encoding_layer = PositionalEncoder(dropout, encode_seq_len, d_model )\n",
        "\n",
        "\n",
        "    # def positional_encoding(self, max_seq_length=context_len, hidden_size=512):\n",
        "    #     # Create empty matrix\n",
        "    #     position = torch.arange(max_seq_length).unsqueeze(1).to(device)\n",
        "    #     div_term = torch.exp(torch.arange(0, hidden_size, 2) * -(torch.log(torch.tensor(10000.0)) / hidden_size)).to(device)\n",
        "    #     pe = torch.zeros(max_seq_length, hidden_size).to(device)\n",
        "    #     # Compute the positional encoding values\n",
        "    #     pe[:, 0::2] = torch.sin(position * div_term)\n",
        "    #     pe[:, 1::2] = torch.cos(position * div_term)\n",
        "    #     pe = pe.unsqueeze(0)\n",
        "    #     return pe\n",
        "        \n",
        "    def forward(self, x, query, src_mask=None, tgt_mask=None):\n",
        "        # print(\"in,\",x.shape) #32 10 29, batch len feature\n",
        "        batch_size, seq_len, feature=x.shape\n",
        "\n",
        "        # # print(\"x\",x.shape)\n",
        "        # pos_encodings = self.positional_encoding(self.encode_seq_len, self.d_model)\n",
        "        # pos_encodings_query = self.positional_encoding(1, self.d_model)\n",
        "        \n",
        "\n",
        "        # #encode x\n",
        "        x = self.embedding(x) \n",
        "        x = self.positional_encoding_layer(x)\n",
        "\n",
        "        #encode query\n",
        "        query=self.embedding(query) \n",
        "\n",
        "        encoder_out = self.encoder(x)\n",
        "        decoder_out = self.decoder(query, encoder_out,tgt_mask=tgt_mask, memory_mask=src_mask )\n",
        "        # print(\"asdasdasdasdasd\",decoder_out.shape)\n",
        "\n",
        "        decoder_out = self.linear_out(decoder_out.flatten(start_dim=1))\n",
        "        \n",
        "        return decoder_out\n"
      ]
    },
    {
      "cell_type": "code",
      "source": [
        "gc.collect()\n",
        "torch.cuda.empty_cache()"
      ],
      "metadata": {
        "id": "pCh0X5XcjGc0"
      },
      "execution_count": 16,
      "outputs": []
    },
    {
      "cell_type": "code",
      "execution_count": 17,
      "metadata": {
        "colab": {
          "base_uri": "https://localhost:8080/"
        },
        "id": "w9Y5XE_0vKIf",
        "outputId": "1a5aea37-dfbb-451b-8165-99db77ed4d38"
      },
      "outputs": [
        {
          "output_type": "stream",
          "name": "stdout",
          "text": [
            "x shape: torch.Size([128, 60, 9]) y shape: torch.Size([128, 10, 9])\n",
            "out shape torch.Size([128, 10])\n",
            "context len 60 pred_len 10\n"
          ]
        }
      ],
      "source": [
        "#TODO: tune model parameters\n",
        "model=Transformer(input_dim=9, output_dim=1, d_model=512, nhead=4, \n",
        "                  num_encoder_layers=4, num_decoder_layers=4, dim_feedforward=512, \n",
        "                  dropout=0.1, encode_seq_len=context_len, pred_seq_len=pred_len).to(device)\n",
        "# print(x.size)\n",
        "for x, y,z in train_loader: \n",
        "    x=torch.FloatTensor(x).to(device)\n",
        "    y=torch.FloatTensor(y).to(device)\n",
        "    print(\"x shape:\", x.shape, \"y shape:\", y.shape)\n",
        "    print(\"out shape\", model(x,y).shape)\n",
        "    # summary(model, x1)\n",
        "    break\n",
        "print(\"context len\",model.encode_seq_len,\"pred_len\", model.pred_seq_len)"
      ]
    },
    {
      "cell_type": "markdown",
      "metadata": {
        "id": "bPZD3vqdUisj"
      },
      "source": [
        "# Model Setup "
      ]
    },
    {
      "cell_type": "markdown",
      "metadata": {
        "id": "23DMfXsaU6kj"
      },
      "source": [
        "# Loss Function, Optimizers, Scheduler"
      ]
    },
    {
      "cell_type": "code",
      "execution_count": 18,
      "metadata": {
        "id": "216ukmHbU-ol"
      },
      "outputs": [],
      "source": [
        "optimizer   = torch.optim.Adam(model.parameters(), lr= config['lr'])\n",
        "criterion   = torch.nn.MSELoss() \n",
        "scaler      = torch.cuda.amp.GradScaler()\n",
        "\n",
        "# Optional (but Recommended): Create a custom class for a Teacher Force Schedule"
      ]
    },
    {
      "cell_type": "code",
      "source": [
        "def generate_square_subsequent_mask(dim1: int, dim2: int, dim3: int): \n",
        "    return torch.triu(torch.ones(dim1, dim2, dim3) * float('-inf'), diagonal=1)"
      ],
      "metadata": {
        "id": "ffxXHWsyhIJO"
      },
      "execution_count": 19,
      "outputs": []
    },
    {
      "cell_type": "markdown",
      "metadata": {
        "id": "Pu4MrSMUUIyp"
      },
      "source": [
        "# Train and Validation functions \n"
      ]
    },
    {
      "cell_type": "code",
      "execution_count": 20,
      "metadata": {
        "id": "sKOdI0J5Tpem"
      },
      "outputs": [],
      "source": [
        "class Trainer():\n",
        "  def __init__(self, model, loader, optimizer, criterion, scheduler, teacher_forcing_ratio, val_loader):\n",
        "    self.model      = model\n",
        "    self.loader     = loader\n",
        "    self.optimizer  = optimizer\n",
        "    self.criterion  = criterion\n",
        "    self.train_plot=[]\n",
        "    self.teacher_forcing_ratio=teacher_forcing_ratio\n",
        "    self.teacher=True\n",
        "    self.val_loader=val_loader\n",
        "    \n",
        "  def train(self):\n",
        "      self.model.train() # set to training mode\n",
        "      self.model.to(device)\n",
        "\n",
        "      batch_bar = tqdm(total=len(self.loader), dynamic_ncols=True, leave=False, position=0, desc='Train')\n",
        "      running_loss        = 0.0\n",
        "\n",
        "      for i, batch in enumerate(self.loader):\n",
        "          self.optimizer.zero_grad()\n",
        "\n",
        "          src, trg, y_train = batch\n",
        "\n",
        "          src = src.to(device)\n",
        "          trg = trg.to(device)\n",
        "          y_train = y_train.to(device)\n",
        "\n",
        "          batch_size = src.shape[0]\n",
        "\n",
        "          src_mask = generate_square_subsequent_mask( dim1=batch_size*self.model.nhead,dim2=pred_len,dim3=context_len).to(device)\n",
        "          tgt_mask = generate_square_subsequent_mask( dim1=batch_size*self.model.nhead,dim2=pred_len,dim3=pred_len).to(device)\n",
        "\n",
        "          y_pred = self.model(src, trg, src_mask=src_mask, tgt_mask=tgt_mask)\n",
        "\n",
        "          #0,'Time',1,'Open',2,'High',3,'Low',4,'Close',5,'Volume',6,'change',7,'delta',8,'Moving Average'\n",
        "          pred_what=4\n",
        "          loss = criterion(y_pred, y_train[:,:,pred_what])    #TODO: try changing 8 to others, if want the model to learn other columns\n",
        "          loss.backward()\n",
        "          optimizer.step()\n",
        "          \n",
        "          self.train_plot.append(loss.item())\n",
        "          running_loss += loss.item()\n",
        "          \n",
        "          batch_bar.set_postfix(\n",
        "              loss=\"{:.04f}\".format(running_loss/(i+1)),\n",
        "              lr=\"{:.04f}\".format(float(self.optimizer.param_groups[0]['lr'])),\n",
        "              # teacher_time=\"{:.04f}\".format(teach/10)\n",
        "               )\n",
        "          batch_bar.update()\n",
        "\n",
        "          del src, trg, y_train\n",
        "          torch.cuda.empty_cache()\n",
        "\n",
        "      batch_bar.close()\n",
        "\n",
        "      return running_loss/len(self.loader)\n",
        "\n",
        "  def validate(self):\n",
        "      self.model.eval() # set to training mode\n",
        "      self.model.to(device)\n",
        "\n",
        "      batch_bar = tqdm(total=len(self.loader), dynamic_ncols=True, leave=False, position=0, desc='Train')\n",
        "      running_loss        = 0.0\n",
        "\n",
        "      for i, batch in enumerate(self.val_loader):\n",
        "          self.optimizer.zero_grad()\n",
        "\n",
        "          src, trg, y_test = batch\n",
        "\n",
        "          src = src.to(device)\n",
        "          trg = trg.to(device)\n",
        "          y_test = y_test.to(device)\n",
        "\n",
        "          batch_size = src.shape[0]\n",
        "\n",
        "          src_mask = generate_square_subsequent_mask( dim1=batch_size*self.model.nhead,dim2=pred_len,dim3=context_len).to(device)\n",
        "          tgt_mask = generate_square_subsequent_mask( dim1=batch_size*self.model.nhead,dim2=pred_len,dim3=pred_len).to(device)\n",
        "\n",
        "          y_pred = self.model(src, trg, src_mask=src_mask, tgt_mask=tgt_mask)\n",
        "\n",
        "          #0,'Time',1,'Open',2,'High',3,'Low',4,'Close',5,'Volume',6,'change',7,'delta',8,'Moving Average'\n",
        "          pred_what=4\n",
        "          # print(y_pred[:,1].shape,y_test[:,1,pred_what].shape)\n",
        "          val_loss = criterion(y_pred[:,0], y_test[:,0,pred_what])    #TODO: try changing 8 to others, if want the model to learn other columns\n",
        "\n",
        "          running_loss += val_loss.item()\n",
        "          \n",
        "          batch_bar.set_postfix(\n",
        "              loss=\"{:.04f}\".format(running_loss/(i+1))\n",
        "               )\n",
        "          batch_bar.update()\n",
        "\n",
        "          del src, trg, y_test\n",
        "          torch.cuda.empty_cache()\n",
        "\n",
        "      batch_bar.close()\n",
        "\n",
        "      return running_loss/len(self.loader)\n",
        "\n",
        "  def test(self, test_loader):\n",
        "        self.model.eval() # set to training mode\n",
        "        self.model.to(device)\n",
        "        batch_bar = tqdm(total=len(test_loader), dynamic_ncols=True, leave=False, position=0, desc='Train')\n",
        "        prediction=[]\n",
        "        for i, batch in enumerate(test_loader):\n",
        "            self.optimizer.zero_grad()\n",
        "\n",
        "            src, trg, y_test = batch\n",
        "\n",
        "            src = src.to(device)\n",
        "            trg = trg.to(device)\n",
        "\n",
        "            batch_size = src.shape[0]\n",
        "\n",
        "            src_mask = generate_square_subsequent_mask( dim1=batch_size*self.model.nhead,dim2=pred_len,dim3=context_len).to(device)\n",
        "            tgt_mask = generate_square_subsequent_mask( dim1=batch_size*self.model.nhead,dim2=pred_len,dim3=pred_len).to(device)\n",
        "\n",
        "            y_pred = self.model(src, trg, src_mask=src_mask, tgt_mask=tgt_mask)[:,0]\n",
        "            prediction.append(y_pred[0])\n",
        "\n",
        "            #0,'Time',1,'Open',2,'High',3,'Low',4,'Close',5,'Volume',6,'change',7,'delta',8,'Moving Average'\n",
        "            del src, trg, y_test\n",
        "            torch.cuda.empty_cache()\n",
        "            batch_bar.update()\n",
        "\n",
        "        batch_bar.close()\n",
        "\n",
        "        return prediction"
      ]
    },
    {
      "cell_type": "code",
      "execution_count": 21,
      "metadata": {
        "id": "2RubmNuG6Yzd"
      },
      "outputs": [],
      "source": [
        "gc.collect()\n",
        "torch.cuda.empty_cache()"
      ]
    },
    {
      "cell_type": "code",
      "source": [
        "scheduler   = torch.optim.lr_scheduler.StepLR(optimizer, step_size=1, gamma=0.99)\n",
        "trainer=Trainer(model, train_loader, optimizer, criterion,  scheduler, teacher_forcing_ratio=1.0, val_loader=val_loader)"
      ],
      "metadata": {
        "id": "pdBl0JwgZDrE"
      },
      "execution_count": 22,
      "outputs": []
    },
    {
      "cell_type": "code",
      "execution_count": null,
      "metadata": {
        "colab": {
          "base_uri": "https://localhost:8080/",
          "height": 1000
        },
        "id": "eDWGFIcjddz-",
        "outputId": "626d871b-9579-4d0a-a85f-1b1b41ac8637"
      },
      "outputs": [
        {
          "output_type": "stream",
          "name": "stdout",
          "text": [
            "\n",
            "Epoch: 1/300\n"
          ]
        },
        {
          "output_type": "stream",
          "name": "stderr",
          "text": []
        },
        {
          "output_type": "stream",
          "name": "stdout",
          "text": [
            "\tTrain Loss 0.7926\t Learning Rate 0.0001000\t Validation Loss 2.5365\n",
            "\n",
            "Epoch: 2/300\n"
          ]
        },
        {
          "output_type": "stream",
          "name": "stderr",
          "text": []
        },
        {
          "output_type": "stream",
          "name": "stdout",
          "text": [
            "\tTrain Loss 0.2276\t Learning Rate 0.0000990\t Validation Loss 3.8998\n",
            "\n",
            "Epoch: 3/300\n"
          ]
        },
        {
          "output_type": "stream",
          "name": "stderr",
          "text": []
        },
        {
          "output_type": "stream",
          "name": "stdout",
          "text": [
            "\tTrain Loss 0.1303\t Learning Rate 0.0000980\t Validation Loss 0.5234\n",
            "\n",
            "Epoch: 4/300\n"
          ]
        },
        {
          "output_type": "stream",
          "name": "stderr",
          "text": []
        },
        {
          "output_type": "stream",
          "name": "stdout",
          "text": [
            "\tTrain Loss 0.1170\t Learning Rate 0.0000970\t Validation Loss 0.3155\n",
            "\n",
            "Epoch: 5/300\n"
          ]
        },
        {
          "output_type": "stream",
          "name": "stderr",
          "text": []
        },
        {
          "output_type": "stream",
          "name": "stdout",
          "text": [
            "\tTrain Loss 0.0876\t Learning Rate 0.0000961\t Validation Loss 1.3831\n",
            "\n",
            "Epoch: 6/300\n"
          ]
        },
        {
          "output_type": "stream",
          "name": "stderr",
          "text": []
        },
        {
          "output_type": "stream",
          "name": "stdout",
          "text": [
            "\tTrain Loss 0.0733\t Learning Rate 0.0000951\t Validation Loss 2.2639\n",
            "\n",
            "Epoch: 7/300\n"
          ]
        },
        {
          "output_type": "stream",
          "name": "stderr",
          "text": []
        },
        {
          "output_type": "stream",
          "name": "stdout",
          "text": [
            "\tTrain Loss 0.0591\t Learning Rate 0.0000941\t Validation Loss 1.4271\n",
            "\n",
            "Epoch: 8/300\n"
          ]
        },
        {
          "output_type": "stream",
          "name": "stderr",
          "text": []
        },
        {
          "output_type": "stream",
          "name": "stdout",
          "text": [
            "\tTrain Loss 0.0448\t Learning Rate 0.0000932\t Validation Loss 1.1443\n",
            "\n",
            "Epoch: 9/300\n"
          ]
        },
        {
          "output_type": "stream",
          "name": "stderr",
          "text": []
        },
        {
          "output_type": "stream",
          "name": "stdout",
          "text": [
            "\tTrain Loss 0.0473\t Learning Rate 0.0000923\t Validation Loss 1.6300\n",
            "\n",
            "Epoch: 10/300\n"
          ]
        },
        {
          "output_type": "stream",
          "name": "stderr",
          "text": []
        },
        {
          "output_type": "stream",
          "name": "stdout",
          "text": [
            "\tTrain Loss 0.0373\t Learning Rate 0.0000914\t Validation Loss 2.2382\n",
            "\n",
            "Epoch: 11/300\n"
          ]
        },
        {
          "output_type": "stream",
          "name": "stderr",
          "text": []
        },
        {
          "output_type": "stream",
          "name": "stdout",
          "text": [
            "\tTrain Loss 0.0409\t Learning Rate 0.0000904\t Validation Loss 1.2876\n",
            "\n",
            "Epoch: 12/300\n"
          ]
        },
        {
          "output_type": "stream",
          "name": "stderr",
          "text": []
        },
        {
          "output_type": "stream",
          "name": "stdout",
          "text": [
            "\tTrain Loss 0.0379\t Learning Rate 0.0000895\t Validation Loss 1.0380\n",
            "\n",
            "Epoch: 13/300\n"
          ]
        },
        {
          "output_type": "stream",
          "name": "stderr",
          "text": []
        },
        {
          "output_type": "stream",
          "name": "stdout",
          "text": [
            "\tTrain Loss 0.0347\t Learning Rate 0.0000886\t Validation Loss 1.3774\n",
            "\n",
            "Epoch: 14/300\n"
          ]
        },
        {
          "output_type": "stream",
          "name": "stderr",
          "text": []
        },
        {
          "output_type": "stream",
          "name": "stdout",
          "text": [
            "\tTrain Loss 0.0285\t Learning Rate 0.0000878\t Validation Loss 1.0802\n",
            "\n",
            "Epoch: 15/300\n"
          ]
        },
        {
          "output_type": "stream",
          "name": "stderr",
          "text": []
        },
        {
          "output_type": "stream",
          "name": "stdout",
          "text": [
            "\tTrain Loss 0.0329\t Learning Rate 0.0000869\t Validation Loss 1.6972\n",
            "\n",
            "Epoch: 16/300\n"
          ]
        },
        {
          "output_type": "stream",
          "name": "stderr",
          "text": []
        },
        {
          "output_type": "stream",
          "name": "stdout",
          "text": [
            "\tTrain Loss 0.0304\t Learning Rate 0.0000860\t Validation Loss 1.7768\n",
            "\n",
            "Epoch: 17/300\n"
          ]
        },
        {
          "output_type": "stream",
          "name": "stderr",
          "text": []
        },
        {
          "output_type": "stream",
          "name": "stdout",
          "text": [
            "\tTrain Loss 0.0380\t Learning Rate 0.0000851\t Validation Loss 1.3038\n",
            "\n",
            "Epoch: 18/300\n"
          ]
        },
        {
          "output_type": "stream",
          "name": "stderr",
          "text": []
        },
        {
          "output_type": "stream",
          "name": "stdout",
          "text": [
            "\tTrain Loss 0.0375\t Learning Rate 0.0000843\t Validation Loss 1.0613\n",
            "\n",
            "Epoch: 19/300\n"
          ]
        },
        {
          "output_type": "stream",
          "name": "stderr",
          "text": []
        },
        {
          "output_type": "stream",
          "name": "stdout",
          "text": [
            "\tTrain Loss 0.0321\t Learning Rate 0.0000835\t Validation Loss 1.2230\n",
            "\n",
            "Epoch: 20/300\n"
          ]
        },
        {
          "output_type": "stream",
          "name": "stderr",
          "text": []
        },
        {
          "output_type": "stream",
          "name": "stdout",
          "text": [
            "\tTrain Loss 0.0301\t Learning Rate 0.0000826\t Validation Loss 1.0205\n",
            "\n",
            "Epoch: 21/300\n"
          ]
        },
        {
          "output_type": "stream",
          "name": "stderr",
          "text": []
        },
        {
          "output_type": "stream",
          "name": "stdout",
          "text": [
            "\tTrain Loss 0.0288\t Learning Rate 0.0000818\t Validation Loss 0.5366\n",
            "\n",
            "Epoch: 22/300\n"
          ]
        },
        {
          "output_type": "stream",
          "name": "stderr",
          "text": []
        },
        {
          "output_type": "stream",
          "name": "stdout",
          "text": [
            "\tTrain Loss 0.0303\t Learning Rate 0.0000810\t Validation Loss 1.5938\n",
            "\n",
            "Epoch: 23/300\n"
          ]
        },
        {
          "output_type": "stream",
          "name": "stderr",
          "text": []
        },
        {
          "output_type": "stream",
          "name": "stdout",
          "text": [
            "\tTrain Loss 0.0277\t Learning Rate 0.0000802\t Validation Loss 1.8725\n",
            "\n",
            "Epoch: 24/300\n"
          ]
        },
        {
          "output_type": "stream",
          "name": "stderr",
          "text": []
        },
        {
          "output_type": "stream",
          "name": "stdout",
          "text": [
            "\tTrain Loss 0.0255\t Learning Rate 0.0000794\t Validation Loss 1.2447\n",
            "\n",
            "Epoch: 25/300\n"
          ]
        },
        {
          "output_type": "stream",
          "name": "stderr",
          "text": []
        },
        {
          "output_type": "stream",
          "name": "stdout",
          "text": [
            "\tTrain Loss 0.0262\t Learning Rate 0.0000786\t Validation Loss 1.0917\n",
            "\n",
            "Epoch: 26/300\n"
          ]
        },
        {
          "output_type": "stream",
          "name": "stderr",
          "text": []
        },
        {
          "output_type": "stream",
          "name": "stdout",
          "text": [
            "\tTrain Loss 0.0256\t Learning Rate 0.0000778\t Validation Loss 0.8267\n",
            "\n",
            "Epoch: 27/300\n"
          ]
        },
        {
          "output_type": "stream",
          "name": "stderr",
          "text": []
        },
        {
          "output_type": "stream",
          "name": "stdout",
          "text": [
            "\tTrain Loss 0.0274\t Learning Rate 0.0000770\t Validation Loss 0.9644\n",
            "\n",
            "Epoch: 28/300\n"
          ]
        },
        {
          "output_type": "stream",
          "name": "stderr",
          "text": []
        },
        {
          "output_type": "stream",
          "name": "stdout",
          "text": [
            "\tTrain Loss 0.0241\t Learning Rate 0.0000762\t Validation Loss 1.4474\n",
            "\n",
            "Epoch: 29/300\n"
          ]
        },
        {
          "output_type": "stream",
          "name": "stderr",
          "text": []
        },
        {
          "output_type": "stream",
          "name": "stdout",
          "text": [
            "\tTrain Loss 0.0270\t Learning Rate 0.0000755\t Validation Loss 1.2279\n",
            "\n",
            "Epoch: 30/300\n"
          ]
        },
        {
          "output_type": "stream",
          "name": "stderr",
          "text": []
        },
        {
          "output_type": "stream",
          "name": "stdout",
          "text": [
            "\tTrain Loss 0.0241\t Learning Rate 0.0000747\t Validation Loss 1.1199\n",
            "\n",
            "Epoch: 31/300\n"
          ]
        },
        {
          "output_type": "stream",
          "name": "stderr",
          "text": []
        },
        {
          "output_type": "stream",
          "name": "stdout",
          "text": [
            "\tTrain Loss 0.0225\t Learning Rate 0.0000740\t Validation Loss 1.2569\n",
            "\n",
            "Epoch: 32/300\n"
          ]
        },
        {
          "output_type": "stream",
          "name": "stderr",
          "text": []
        },
        {
          "output_type": "stream",
          "name": "stdout",
          "text": [
            "\tTrain Loss 0.0243\t Learning Rate 0.0000732\t Validation Loss 1.1038\n",
            "\n",
            "Epoch: 33/300\n"
          ]
        },
        {
          "output_type": "stream",
          "name": "stderr",
          "text": []
        },
        {
          "output_type": "stream",
          "name": "stdout",
          "text": [
            "\tTrain Loss 0.0235\t Learning Rate 0.0000725\t Validation Loss 0.8678\n",
            "\n",
            "Epoch: 34/300\n"
          ]
        },
        {
          "output_type": "stream",
          "name": "stderr",
          "text": []
        },
        {
          "output_type": "stream",
          "name": "stdout",
          "text": [
            "\tTrain Loss 0.0214\t Learning Rate 0.0000718\t Validation Loss 0.8783\n",
            "\n",
            "Epoch: 35/300\n"
          ]
        },
        {
          "output_type": "stream",
          "name": "stderr",
          "text": []
        },
        {
          "output_type": "stream",
          "name": "stdout",
          "text": [
            "\tTrain Loss 0.0228\t Learning Rate 0.0000711\t Validation Loss 1.1357\n",
            "\n",
            "Epoch: 36/300\n"
          ]
        },
        {
          "output_type": "stream",
          "name": "stderr",
          "text": []
        },
        {
          "output_type": "stream",
          "name": "stdout",
          "text": [
            "\tTrain Loss 0.0232\t Learning Rate 0.0000703\t Validation Loss 0.9715\n",
            "\n",
            "Epoch: 37/300\n"
          ]
        },
        {
          "output_type": "stream",
          "name": "stderr",
          "text": []
        },
        {
          "output_type": "stream",
          "name": "stdout",
          "text": [
            "\tTrain Loss 0.0200\t Learning Rate 0.0000696\t Validation Loss 0.7377\n",
            "\n",
            "Epoch: 38/300\n"
          ]
        },
        {
          "output_type": "stream",
          "name": "stderr",
          "text": []
        },
        {
          "output_type": "stream",
          "name": "stdout",
          "text": [
            "\tTrain Loss 0.0210\t Learning Rate 0.0000689\t Validation Loss 0.7874\n",
            "\n",
            "Epoch: 39/300\n"
          ]
        },
        {
          "output_type": "stream",
          "name": "stderr",
          "text": []
        },
        {
          "output_type": "stream",
          "name": "stdout",
          "text": [
            "\tTrain Loss 0.0224\t Learning Rate 0.0000683\t Validation Loss 1.0396\n",
            "\n",
            "Epoch: 40/300\n"
          ]
        },
        {
          "output_type": "stream",
          "name": "stderr",
          "text": []
        },
        {
          "output_type": "stream",
          "name": "stdout",
          "text": [
            "\tTrain Loss 0.0215\t Learning Rate 0.0000676\t Validation Loss 1.1160\n",
            "\n",
            "Epoch: 41/300\n"
          ]
        },
        {
          "output_type": "stream",
          "name": "stderr",
          "text": []
        },
        {
          "output_type": "stream",
          "name": "stdout",
          "text": [
            "\tTrain Loss 0.0229\t Learning Rate 0.0000669\t Validation Loss 0.9400\n",
            "\n",
            "Epoch: 42/300\n"
          ]
        },
        {
          "output_type": "stream",
          "name": "stderr",
          "text": []
        },
        {
          "output_type": "stream",
          "name": "stdout",
          "text": [
            "\tTrain Loss 0.0195\t Learning Rate 0.0000662\t Validation Loss 0.7072\n",
            "\n",
            "Epoch: 43/300\n"
          ]
        },
        {
          "output_type": "stream",
          "name": "stderr",
          "text": []
        },
        {
          "output_type": "stream",
          "name": "stdout",
          "text": [
            "\tTrain Loss 0.0227\t Learning Rate 0.0000656\t Validation Loss 0.9418\n",
            "\n",
            "Epoch: 44/300\n"
          ]
        },
        {
          "output_type": "stream",
          "name": "stderr",
          "text": []
        },
        {
          "output_type": "stream",
          "name": "stdout",
          "text": [
            "\tTrain Loss 0.0226\t Learning Rate 0.0000649\t Validation Loss 1.0789\n",
            "\n",
            "Epoch: 45/300\n"
          ]
        },
        {
          "output_type": "stream",
          "name": "stderr",
          "text": []
        },
        {
          "output_type": "stream",
          "name": "stdout",
          "text": [
            "\tTrain Loss 0.0221\t Learning Rate 0.0000643\t Validation Loss 0.7402\n",
            "\n",
            "Epoch: 46/300\n"
          ]
        },
        {
          "output_type": "stream",
          "name": "stderr",
          "text": []
        },
        {
          "output_type": "stream",
          "name": "stdout",
          "text": [
            "\tTrain Loss 0.0209\t Learning Rate 0.0000636\t Validation Loss 0.7594\n",
            "\n",
            "Epoch: 47/300\n"
          ]
        },
        {
          "output_type": "stream",
          "name": "stderr",
          "text": []
        },
        {
          "output_type": "stream",
          "name": "stdout",
          "text": [
            "\tTrain Loss 0.0206\t Learning Rate 0.0000630\t Validation Loss 0.9873\n",
            "\n",
            "Epoch: 48/300\n"
          ]
        },
        {
          "output_type": "stream",
          "name": "stderr",
          "text": []
        },
        {
          "output_type": "stream",
          "name": "stdout",
          "text": [
            "\tTrain Loss 0.0189\t Learning Rate 0.0000624\t Validation Loss 0.9695\n",
            "\n",
            "Epoch: 49/300\n"
          ]
        },
        {
          "output_type": "stream",
          "name": "stderr",
          "text": []
        },
        {
          "output_type": "stream",
          "name": "stdout",
          "text": [
            "\tTrain Loss 0.0210\t Learning Rate 0.0000617\t Validation Loss 0.5323\n",
            "\n",
            "Epoch: 50/300\n"
          ]
        },
        {
          "output_type": "stream",
          "name": "stderr",
          "text": []
        },
        {
          "output_type": "stream",
          "name": "stdout",
          "text": [
            "\tTrain Loss 0.0188\t Learning Rate 0.0000611\t Validation Loss 0.5818\n",
            "\n",
            "Epoch: 51/300\n"
          ]
        },
        {
          "output_type": "stream",
          "name": "stderr",
          "text": []
        },
        {
          "output_type": "stream",
          "name": "stdout",
          "text": [
            "\tTrain Loss 0.0192\t Learning Rate 0.0000605\t Validation Loss 0.9793\n",
            "\n",
            "Epoch: 52/300\n"
          ]
        },
        {
          "output_type": "stream",
          "name": "stderr",
          "text": []
        },
        {
          "output_type": "stream",
          "name": "stdout",
          "text": [
            "\tTrain Loss 0.0207\t Learning Rate 0.0000599\t Validation Loss 1.0562\n",
            "\n",
            "Epoch: 53/300\n"
          ]
        },
        {
          "output_type": "stream",
          "name": "stderr",
          "text": []
        },
        {
          "output_type": "stream",
          "name": "stdout",
          "text": [
            "\tTrain Loss 0.0207\t Learning Rate 0.0000593\t Validation Loss 0.6719\n",
            "\n",
            "Epoch: 54/300\n"
          ]
        },
        {
          "output_type": "stream",
          "name": "stderr",
          "text": []
        },
        {
          "output_type": "stream",
          "name": "stdout",
          "text": [
            "\tTrain Loss 0.0226\t Learning Rate 0.0000587\t Validation Loss 0.6152\n",
            "\n",
            "Epoch: 55/300\n"
          ]
        },
        {
          "output_type": "stream",
          "name": "stderr",
          "text": []
        },
        {
          "output_type": "stream",
          "name": "stdout",
          "text": [
            "\tTrain Loss 0.0246\t Learning Rate 0.0000581\t Validation Loss 0.7635\n",
            "\n",
            "Epoch: 56/300\n"
          ]
        },
        {
          "output_type": "stream",
          "name": "stderr",
          "text": []
        },
        {
          "output_type": "stream",
          "name": "stdout",
          "text": [
            "\tTrain Loss 0.0229\t Learning Rate 0.0000575\t Validation Loss 0.8837\n",
            "\n",
            "Epoch: 57/300\n"
          ]
        },
        {
          "output_type": "stream",
          "name": "stderr",
          "text": []
        },
        {
          "output_type": "stream",
          "name": "stdout",
          "text": [
            "\tTrain Loss 0.0219\t Learning Rate 0.0000570\t Validation Loss 0.6509\n",
            "\n",
            "Epoch: 58/300\n"
          ]
        },
        {
          "output_type": "stream",
          "name": "stderr",
          "text": []
        },
        {
          "output_type": "stream",
          "name": "stdout",
          "text": [
            "\tTrain Loss 0.0222\t Learning Rate 0.0000564\t Validation Loss 0.6865\n",
            "\n",
            "Epoch: 59/300\n"
          ]
        },
        {
          "output_type": "stream",
          "name": "stderr",
          "text": []
        },
        {
          "output_type": "stream",
          "name": "stdout",
          "text": [
            "\tTrain Loss 0.0213\t Learning Rate 0.0000558\t Validation Loss 0.7504\n",
            "\n",
            "Epoch: 60/300\n"
          ]
        },
        {
          "output_type": "stream",
          "name": "stderr",
          "text": []
        },
        {
          "output_type": "stream",
          "name": "stdout",
          "text": [
            "\tTrain Loss 0.0206\t Learning Rate 0.0000553\t Validation Loss 0.4322\n",
            "\n",
            "Epoch: 61/300\n"
          ]
        },
        {
          "output_type": "stream",
          "name": "stderr",
          "text": []
        },
        {
          "output_type": "stream",
          "name": "stdout",
          "text": [
            "\tTrain Loss 0.0208\t Learning Rate 0.0000547\t Validation Loss 0.7849\n",
            "\n",
            "Epoch: 62/300\n"
          ]
        },
        {
          "output_type": "stream",
          "name": "stderr",
          "text": []
        },
        {
          "output_type": "stream",
          "name": "stdout",
          "text": [
            "\tTrain Loss 0.0201\t Learning Rate 0.0000542\t Validation Loss 0.7552\n",
            "\n",
            "Epoch: 63/300\n"
          ]
        },
        {
          "output_type": "stream",
          "name": "stderr",
          "text": []
        },
        {
          "output_type": "stream",
          "name": "stdout",
          "text": [
            "\tTrain Loss 0.0200\t Learning Rate 0.0000536\t Validation Loss 0.6476\n",
            "\n",
            "Epoch: 64/300\n"
          ]
        },
        {
          "output_type": "stream",
          "name": "stderr",
          "text": []
        },
        {
          "output_type": "stream",
          "name": "stdout",
          "text": [
            "\tTrain Loss 0.0198\t Learning Rate 0.0000531\t Validation Loss 0.7947\n",
            "\n",
            "Epoch: 65/300\n"
          ]
        },
        {
          "output_type": "stream",
          "name": "stderr",
          "text": []
        },
        {
          "output_type": "stream",
          "name": "stdout",
          "text": [
            "\tTrain Loss 0.0190\t Learning Rate 0.0000526\t Validation Loss 0.6323\n",
            "\n",
            "Epoch: 66/300\n"
          ]
        },
        {
          "output_type": "stream",
          "name": "stderr",
          "text": []
        },
        {
          "output_type": "stream",
          "name": "stdout",
          "text": [
            "\tTrain Loss 0.0176\t Learning Rate 0.0000520\t Validation Loss 0.5456\n",
            "\n",
            "Epoch: 67/300\n"
          ]
        },
        {
          "output_type": "stream",
          "name": "stderr",
          "text": []
        },
        {
          "output_type": "stream",
          "name": "stdout",
          "text": [
            "\tTrain Loss 0.0193\t Learning Rate 0.0000515\t Validation Loss 0.5574\n",
            "\n",
            "Epoch: 68/300\n"
          ]
        },
        {
          "output_type": "stream",
          "name": "stderr",
          "text": []
        },
        {
          "output_type": "stream",
          "name": "stdout",
          "text": [
            "\tTrain Loss 0.0167\t Learning Rate 0.0000510\t Validation Loss 0.6865\n",
            "\n",
            "Epoch: 69/300\n"
          ]
        },
        {
          "output_type": "stream",
          "name": "stderr",
          "text": []
        },
        {
          "output_type": "stream",
          "name": "stdout",
          "text": [
            "\tTrain Loss 0.0181\t Learning Rate 0.0000505\t Validation Loss 0.7282\n",
            "\n",
            "Epoch: 70/300\n"
          ]
        },
        {
          "output_type": "stream",
          "name": "stderr",
          "text": []
        },
        {
          "output_type": "stream",
          "name": "stdout",
          "text": [
            "\tTrain Loss 0.0164\t Learning Rate 0.0000500\t Validation Loss 0.7233\n",
            "\n",
            "Epoch: 71/300\n"
          ]
        },
        {
          "output_type": "stream",
          "name": "stderr",
          "text": []
        },
        {
          "output_type": "stream",
          "name": "stdout",
          "text": [
            "\tTrain Loss 0.0175\t Learning Rate 0.0000495\t Validation Loss 0.7175\n",
            "\n",
            "Epoch: 72/300\n"
          ]
        },
        {
          "output_type": "stream",
          "name": "stderr",
          "text": []
        },
        {
          "output_type": "stream",
          "name": "stdout",
          "text": [
            "\tTrain Loss 0.0177\t Learning Rate 0.0000490\t Validation Loss 0.6351\n",
            "\n",
            "Epoch: 73/300\n"
          ]
        },
        {
          "output_type": "stream",
          "name": "stderr",
          "text": []
        },
        {
          "output_type": "stream",
          "name": "stdout",
          "text": [
            "\tTrain Loss 0.0180\t Learning Rate 0.0000485\t Validation Loss 0.5070\n",
            "\n",
            "Epoch: 74/300\n"
          ]
        },
        {
          "output_type": "stream",
          "name": "stderr",
          "text": []
        },
        {
          "output_type": "stream",
          "name": "stdout",
          "text": [
            "\tTrain Loss 0.0165\t Learning Rate 0.0000480\t Validation Loss 0.7184\n",
            "\n",
            "Epoch: 75/300\n"
          ]
        },
        {
          "output_type": "stream",
          "name": "stderr",
          "text": []
        },
        {
          "output_type": "stream",
          "name": "stdout",
          "text": [
            "\tTrain Loss 0.0181\t Learning Rate 0.0000475\t Validation Loss 0.5671\n",
            "\n",
            "Epoch: 76/300\n"
          ]
        },
        {
          "output_type": "stream",
          "name": "stderr",
          "text": []
        },
        {
          "output_type": "stream",
          "name": "stdout",
          "text": [
            "\tTrain Loss 0.0169\t Learning Rate 0.0000471\t Validation Loss 0.4822\n",
            "\n",
            "Epoch: 77/300\n"
          ]
        },
        {
          "output_type": "stream",
          "name": "stderr",
          "text": []
        },
        {
          "output_type": "stream",
          "name": "stdout",
          "text": [
            "\tTrain Loss 0.0176\t Learning Rate 0.0000466\t Validation Loss 0.6082\n",
            "\n",
            "Epoch: 78/300\n"
          ]
        },
        {
          "output_type": "stream",
          "name": "stderr",
          "text": []
        },
        {
          "output_type": "stream",
          "name": "stdout",
          "text": [
            "\tTrain Loss 0.0167\t Learning Rate 0.0000461\t Validation Loss 0.6592\n",
            "\n",
            "Epoch: 79/300\n"
          ]
        },
        {
          "output_type": "stream",
          "name": "stderr",
          "text": []
        },
        {
          "output_type": "stream",
          "name": "stdout",
          "text": [
            "\tTrain Loss 0.0200\t Learning Rate 0.0000457\t Validation Loss 0.5937\n",
            "\n",
            "Epoch: 80/300\n"
          ]
        },
        {
          "output_type": "stream",
          "name": "stderr",
          "text": []
        },
        {
          "output_type": "stream",
          "name": "stdout",
          "text": [
            "\tTrain Loss 0.0158\t Learning Rate 0.0000452\t Validation Loss 0.3826\n",
            "\n",
            "Epoch: 81/300\n"
          ]
        },
        {
          "output_type": "stream",
          "name": "stderr",
          "text": []
        },
        {
          "output_type": "stream",
          "name": "stdout",
          "text": [
            "\tTrain Loss 0.0164\t Learning Rate 0.0000448\t Validation Loss 0.4322\n",
            "\n",
            "Epoch: 82/300\n"
          ]
        },
        {
          "output_type": "stream",
          "name": "stderr",
          "text": []
        },
        {
          "output_type": "stream",
          "name": "stdout",
          "text": [
            "\tTrain Loss 0.0150\t Learning Rate 0.0000443\t Validation Loss 0.5543\n",
            "\n",
            "Epoch: 83/300\n"
          ]
        },
        {
          "output_type": "stream",
          "name": "stderr",
          "text": []
        },
        {
          "output_type": "stream",
          "name": "stdout",
          "text": [
            "\tTrain Loss 0.0166\t Learning Rate 0.0000439\t Validation Loss 0.6102\n",
            "\n",
            "Epoch: 84/300\n"
          ]
        },
        {
          "output_type": "stream",
          "name": "stderr",
          "text": []
        },
        {
          "output_type": "stream",
          "name": "stdout",
          "text": [
            "\tTrain Loss 0.0151\t Learning Rate 0.0000434\t Validation Loss 0.4113\n",
            "\n",
            "Epoch: 85/300\n"
          ]
        },
        {
          "output_type": "stream",
          "name": "stderr",
          "text": []
        },
        {
          "output_type": "stream",
          "name": "stdout",
          "text": [
            "\tTrain Loss 0.0147\t Learning Rate 0.0000430\t Validation Loss 0.4510\n",
            "\n",
            "Epoch: 86/300\n"
          ]
        },
        {
          "output_type": "stream",
          "name": "stderr",
          "text": []
        },
        {
          "output_type": "stream",
          "name": "stdout",
          "text": [
            "\tTrain Loss 0.0163\t Learning Rate 0.0000426\t Validation Loss 0.5727\n",
            "\n",
            "Epoch: 87/300\n"
          ]
        },
        {
          "output_type": "stream",
          "name": "stderr",
          "text": []
        },
        {
          "output_type": "stream",
          "name": "stdout",
          "text": [
            "\tTrain Loss 0.0149\t Learning Rate 0.0000421\t Validation Loss 0.5208\n",
            "\n",
            "Epoch: 88/300\n"
          ]
        },
        {
          "output_type": "stream",
          "name": "stderr",
          "text": []
        },
        {
          "output_type": "stream",
          "name": "stdout",
          "text": [
            "\tTrain Loss 0.0156\t Learning Rate 0.0000417\t Validation Loss 0.5499\n",
            "\n",
            "Epoch: 89/300\n"
          ]
        },
        {
          "output_type": "stream",
          "name": "stderr",
          "text": []
        },
        {
          "output_type": "stream",
          "name": "stdout",
          "text": [
            "\tTrain Loss 0.0174\t Learning Rate 0.0000413\t Validation Loss 0.3685\n",
            "\n",
            "Epoch: 90/300\n"
          ]
        },
        {
          "output_type": "stream",
          "name": "stderr",
          "text": []
        },
        {
          "output_type": "stream",
          "name": "stdout",
          "text": [
            "\tTrain Loss 0.0147\t Learning Rate 0.0000409\t Validation Loss 0.3381\n",
            "\n",
            "Epoch: 91/300\n"
          ]
        },
        {
          "output_type": "stream",
          "name": "stderr",
          "text": []
        },
        {
          "output_type": "stream",
          "name": "stdout",
          "text": [
            "\tTrain Loss 0.0167\t Learning Rate 0.0000405\t Validation Loss 0.3629\n",
            "\n",
            "Epoch: 92/300\n"
          ]
        },
        {
          "output_type": "stream",
          "name": "stderr",
          "text": []
        },
        {
          "output_type": "stream",
          "name": "stdout",
          "text": [
            "\tTrain Loss 0.0158\t Learning Rate 0.0000401\t Validation Loss 0.5656\n",
            "\n",
            "Epoch: 93/300\n"
          ]
        },
        {
          "output_type": "stream",
          "name": "stderr",
          "text": []
        },
        {
          "output_type": "stream",
          "name": "stdout",
          "text": [
            "\tTrain Loss 0.0169\t Learning Rate 0.0000397\t Validation Loss 0.6504\n",
            "\n",
            "Epoch: 94/300\n"
          ]
        },
        {
          "output_type": "stream",
          "name": "stderr",
          "text": []
        },
        {
          "output_type": "stream",
          "name": "stdout",
          "text": [
            "\tTrain Loss 0.0156\t Learning Rate 0.0000393\t Validation Loss 0.4576\n",
            "\n",
            "Epoch: 95/300\n"
          ]
        },
        {
          "output_type": "stream",
          "name": "stderr",
          "text": []
        },
        {
          "output_type": "stream",
          "name": "stdout",
          "text": [
            "\tTrain Loss 0.0154\t Learning Rate 0.0000389\t Validation Loss 0.3414\n",
            "\n",
            "Epoch: 96/300\n"
          ]
        },
        {
          "output_type": "stream",
          "name": "stderr",
          "text": []
        },
        {
          "output_type": "stream",
          "name": "stdout",
          "text": [
            "\tTrain Loss 0.0140\t Learning Rate 0.0000385\t Validation Loss 0.3845\n",
            "\n",
            "Epoch: 97/300\n"
          ]
        },
        {
          "output_type": "stream",
          "name": "stderr",
          "text": []
        },
        {
          "output_type": "stream",
          "name": "stdout",
          "text": [
            "\tTrain Loss 0.0149\t Learning Rate 0.0000381\t Validation Loss 0.6231\n",
            "\n",
            "Epoch: 98/300\n"
          ]
        },
        {
          "output_type": "stream",
          "name": "stderr",
          "text": []
        },
        {
          "output_type": "stream",
          "name": "stdout",
          "text": [
            "\tTrain Loss 0.0155\t Learning Rate 0.0000377\t Validation Loss 0.5049\n",
            "\n",
            "Epoch: 99/300\n"
          ]
        },
        {
          "output_type": "stream",
          "name": "stderr",
          "text": []
        },
        {
          "output_type": "stream",
          "name": "stdout",
          "text": [
            "\tTrain Loss 0.0147\t Learning Rate 0.0000373\t Validation Loss 0.3484\n",
            "\n",
            "Epoch: 100/300\n"
          ]
        },
        {
          "output_type": "stream",
          "name": "stderr",
          "text": []
        },
        {
          "output_type": "stream",
          "name": "stdout",
          "text": [
            "\tTrain Loss 0.0158\t Learning Rate 0.0000370\t Validation Loss 0.4693\n",
            "\n",
            "Epoch: 101/300\n"
          ]
        },
        {
          "output_type": "stream",
          "name": "stderr",
          "text": []
        },
        {
          "output_type": "stream",
          "name": "stdout",
          "text": [
            "\tTrain Loss 0.0156\t Learning Rate 0.0000366\t Validation Loss 0.4340\n",
            "\n",
            "Epoch: 102/300\n"
          ]
        },
        {
          "output_type": "stream",
          "name": "stderr",
          "text": []
        },
        {
          "output_type": "stream",
          "name": "stdout",
          "text": [
            "\tTrain Loss 0.0168\t Learning Rate 0.0000362\t Validation Loss 0.5827\n",
            "\n",
            "Epoch: 103/300\n"
          ]
        },
        {
          "output_type": "stream",
          "name": "stderr",
          "text": []
        },
        {
          "output_type": "stream",
          "name": "stdout",
          "text": [
            "\tTrain Loss 0.0147\t Learning Rate 0.0000359\t Validation Loss 0.4123\n",
            "\n",
            "Epoch: 104/300\n"
          ]
        },
        {
          "output_type": "stream",
          "name": "stderr",
          "text": []
        },
        {
          "output_type": "stream",
          "name": "stdout",
          "text": [
            "\tTrain Loss 0.0150\t Learning Rate 0.0000355\t Validation Loss 0.2563\n",
            "\n",
            "Epoch: 105/300\n"
          ]
        },
        {
          "output_type": "stream",
          "name": "stderr",
          "text": []
        },
        {
          "output_type": "stream",
          "name": "stdout",
          "text": [
            "\tTrain Loss 0.0136\t Learning Rate 0.0000352\t Validation Loss 0.4199\n",
            "\n",
            "Epoch: 106/300\n"
          ]
        },
        {
          "output_type": "stream",
          "name": "stderr",
          "text": []
        },
        {
          "output_type": "stream",
          "name": "stdout",
          "text": [
            "\tTrain Loss 0.0135\t Learning Rate 0.0000348\t Validation Loss 0.4536\n",
            "\n",
            "Epoch: 107/300\n"
          ]
        },
        {
          "output_type": "stream",
          "name": "stderr",
          "text": []
        },
        {
          "output_type": "stream",
          "name": "stdout",
          "text": [
            "\tTrain Loss 0.0144\t Learning Rate 0.0000345\t Validation Loss 0.3756\n",
            "\n",
            "Epoch: 108/300\n"
          ]
        },
        {
          "output_type": "stream",
          "name": "stderr",
          "text": []
        },
        {
          "output_type": "stream",
          "name": "stdout",
          "text": [
            "\tTrain Loss 0.0139\t Learning Rate 0.0000341\t Validation Loss 0.5122\n",
            "\n",
            "Epoch: 109/300\n"
          ]
        },
        {
          "output_type": "stream",
          "name": "stderr",
          "text": []
        },
        {
          "output_type": "stream",
          "name": "stdout",
          "text": [
            "\tTrain Loss 0.0153\t Learning Rate 0.0000338\t Validation Loss 0.5423\n",
            "\n",
            "Epoch: 110/300\n"
          ]
        },
        {
          "output_type": "stream",
          "name": "stderr",
          "text": []
        },
        {
          "output_type": "stream",
          "name": "stdout",
          "text": [
            "\tTrain Loss 0.0154\t Learning Rate 0.0000334\t Validation Loss 0.3008\n",
            "\n",
            "Epoch: 111/300\n"
          ]
        },
        {
          "output_type": "stream",
          "name": "stderr",
          "text": []
        },
        {
          "output_type": "stream",
          "name": "stdout",
          "text": [
            "\tTrain Loss 0.0137\t Learning Rate 0.0000331\t Validation Loss 0.2509\n",
            "\n",
            "Epoch: 112/300\n"
          ]
        },
        {
          "output_type": "stream",
          "name": "stderr",
          "text": []
        },
        {
          "output_type": "stream",
          "name": "stdout",
          "text": [
            "\tTrain Loss 0.0144\t Learning Rate 0.0000328\t Validation Loss 0.3885\n",
            "\n",
            "Epoch: 113/300\n"
          ]
        },
        {
          "output_type": "stream",
          "name": "stderr",
          "text": []
        },
        {
          "output_type": "stream",
          "name": "stdout",
          "text": [
            "\tTrain Loss 0.0147\t Learning Rate 0.0000324\t Validation Loss 0.5120\n",
            "\n",
            "Epoch: 114/300\n"
          ]
        },
        {
          "output_type": "stream",
          "name": "stderr",
          "text": []
        },
        {
          "output_type": "stream",
          "name": "stdout",
          "text": [
            "\tTrain Loss 0.0152\t Learning Rate 0.0000321\t Validation Loss 0.4323\n",
            "\n",
            "Epoch: 115/300\n"
          ]
        },
        {
          "output_type": "stream",
          "name": "stderr",
          "text": []
        },
        {
          "output_type": "stream",
          "name": "stdout",
          "text": [
            "\tTrain Loss 0.0141\t Learning Rate 0.0000318\t Validation Loss 0.3599\n",
            "\n",
            "Epoch: 116/300\n"
          ]
        },
        {
          "output_type": "stream",
          "name": "stderr",
          "text": []
        },
        {
          "output_type": "stream",
          "name": "stdout",
          "text": [
            "\tTrain Loss 0.0139\t Learning Rate 0.0000315\t Validation Loss 0.3196\n",
            "\n",
            "Epoch: 117/300\n"
          ]
        },
        {
          "output_type": "stream",
          "name": "stderr",
          "text": []
        },
        {
          "output_type": "stream",
          "name": "stdout",
          "text": [
            "\tTrain Loss 0.0137\t Learning Rate 0.0000312\t Validation Loss 0.3068\n",
            "\n",
            "Epoch: 118/300\n"
          ]
        },
        {
          "output_type": "stream",
          "name": "stderr",
          "text": []
        },
        {
          "output_type": "stream",
          "name": "stdout",
          "text": [
            "\tTrain Loss 0.0153\t Learning Rate 0.0000309\t Validation Loss 0.3024\n",
            "\n",
            "Epoch: 119/300\n"
          ]
        },
        {
          "output_type": "stream",
          "name": "stderr",
          "text": []
        },
        {
          "output_type": "stream",
          "name": "stdout",
          "text": [
            "\tTrain Loss 0.0141\t Learning Rate 0.0000305\t Validation Loss 0.4441\n",
            "\n",
            "Epoch: 120/300\n"
          ]
        },
        {
          "output_type": "stream",
          "name": "stderr",
          "text": []
        },
        {
          "output_type": "stream",
          "name": "stdout",
          "text": [
            "\tTrain Loss 0.0135\t Learning Rate 0.0000302\t Validation Loss 0.3703\n",
            "\n",
            "Epoch: 121/300\n"
          ]
        },
        {
          "output_type": "stream",
          "name": "stderr",
          "text": []
        },
        {
          "output_type": "stream",
          "name": "stdout",
          "text": [
            "\tTrain Loss 0.0145\t Learning Rate 0.0000299\t Validation Loss 0.3158\n",
            "\n",
            "Epoch: 122/300\n"
          ]
        },
        {
          "output_type": "stream",
          "name": "stderr",
          "text": []
        },
        {
          "output_type": "stream",
          "name": "stdout",
          "text": [
            "\tTrain Loss 0.0148\t Learning Rate 0.0000296\t Validation Loss 0.4689\n",
            "\n",
            "Epoch: 123/300\n"
          ]
        },
        {
          "output_type": "stream",
          "name": "stderr",
          "text": []
        },
        {
          "output_type": "stream",
          "name": "stdout",
          "text": [
            "\tTrain Loss 0.0135\t Learning Rate 0.0000293\t Validation Loss 0.3809\n",
            "\n",
            "Epoch: 124/300\n"
          ]
        },
        {
          "output_type": "stream",
          "name": "stderr",
          "text": []
        },
        {
          "output_type": "stream",
          "name": "stdout",
          "text": [
            "\tTrain Loss 0.0143\t Learning Rate 0.0000290\t Validation Loss 0.2650\n",
            "\n",
            "Epoch: 125/300\n"
          ]
        },
        {
          "output_type": "stream",
          "name": "stderr",
          "text": []
        },
        {
          "output_type": "stream",
          "name": "stdout",
          "text": [
            "\tTrain Loss 0.0147\t Learning Rate 0.0000288\t Validation Loss 0.1879\n",
            "\n",
            "Epoch: 126/300\n"
          ]
        },
        {
          "output_type": "stream",
          "name": "stderr",
          "text": []
        },
        {
          "output_type": "stream",
          "name": "stdout",
          "text": [
            "\tTrain Loss 0.0150\t Learning Rate 0.0000285\t Validation Loss 0.2053\n",
            "\n",
            "Epoch: 127/300\n"
          ]
        },
        {
          "output_type": "stream",
          "name": "stderr",
          "text": []
        },
        {
          "output_type": "stream",
          "name": "stdout",
          "text": [
            "\tTrain Loss 0.0143\t Learning Rate 0.0000282\t Validation Loss 0.3980\n",
            "\n",
            "Epoch: 128/300\n"
          ]
        },
        {
          "output_type": "stream",
          "name": "stderr",
          "text": []
        },
        {
          "output_type": "stream",
          "name": "stdout",
          "text": [
            "\tTrain Loss 0.0147\t Learning Rate 0.0000279\t Validation Loss 0.4489\n",
            "\n",
            "Epoch: 129/300\n"
          ]
        },
        {
          "output_type": "stream",
          "name": "stderr",
          "text": []
        },
        {
          "output_type": "stream",
          "name": "stdout",
          "text": [
            "\tTrain Loss 0.0138\t Learning Rate 0.0000276\t Validation Loss 0.4342\n",
            "\n",
            "Epoch: 130/300\n"
          ]
        },
        {
          "output_type": "stream",
          "name": "stderr",
          "text": []
        },
        {
          "output_type": "stream",
          "name": "stdout",
          "text": [
            "\tTrain Loss 0.0130\t Learning Rate 0.0000273\t Validation Loss 0.4387\n",
            "\n",
            "Epoch: 131/300\n"
          ]
        },
        {
          "output_type": "stream",
          "name": "stderr",
          "text": []
        },
        {
          "output_type": "stream",
          "name": "stdout",
          "text": [
            "\tTrain Loss 0.0133\t Learning Rate 0.0000271\t Validation Loss 0.2995\n",
            "\n",
            "Epoch: 132/300\n"
          ]
        },
        {
          "output_type": "stream",
          "name": "stderr",
          "text": []
        },
        {
          "output_type": "stream",
          "name": "stdout",
          "text": [
            "\tTrain Loss 0.0141\t Learning Rate 0.0000268\t Validation Loss 0.2426\n",
            "\n",
            "Epoch: 133/300\n"
          ]
        },
        {
          "output_type": "stream",
          "name": "stderr",
          "text": []
        },
        {
          "output_type": "stream",
          "name": "stdout",
          "text": [
            "\tTrain Loss 0.0133\t Learning Rate 0.0000265\t Validation Loss 0.3365\n",
            "\n",
            "Epoch: 134/300\n"
          ]
        },
        {
          "output_type": "stream",
          "name": "stderr",
          "text": []
        },
        {
          "output_type": "stream",
          "name": "stdout",
          "text": [
            "\tTrain Loss 0.0146\t Learning Rate 0.0000263\t Validation Loss 0.3408\n",
            "\n",
            "Epoch: 135/300\n"
          ]
        },
        {
          "output_type": "stream",
          "name": "stderr",
          "text": []
        },
        {
          "output_type": "stream",
          "name": "stdout",
          "text": [
            "\tTrain Loss 0.0142\t Learning Rate 0.0000260\t Validation Loss 0.3063\n",
            "\n",
            "Epoch: 136/300\n"
          ]
        },
        {
          "output_type": "stream",
          "name": "stderr",
          "text": []
        },
        {
          "output_type": "stream",
          "name": "stdout",
          "text": [
            "\tTrain Loss 0.0135\t Learning Rate 0.0000257\t Validation Loss 0.3610\n",
            "\n",
            "Epoch: 137/300\n"
          ]
        },
        {
          "output_type": "stream",
          "name": "stderr",
          "text": []
        },
        {
          "output_type": "stream",
          "name": "stdout",
          "text": [
            "\tTrain Loss 0.0132\t Learning Rate 0.0000255\t Validation Loss 0.3864\n",
            "\n",
            "Epoch: 138/300\n"
          ]
        },
        {
          "output_type": "stream",
          "name": "stderr",
          "text": []
        },
        {
          "output_type": "stream",
          "name": "stdout",
          "text": [
            "\tTrain Loss 0.0132\t Learning Rate 0.0000252\t Validation Loss 0.3457\n",
            "\n",
            "Epoch: 139/300\n"
          ]
        },
        {
          "output_type": "stream",
          "name": "stderr",
          "text": []
        },
        {
          "output_type": "stream",
          "name": "stdout",
          "text": [
            "\tTrain Loss 0.0140\t Learning Rate 0.0000250\t Validation Loss 0.2858\n",
            "\n",
            "Epoch: 140/300\n"
          ]
        },
        {
          "output_type": "stream",
          "name": "stderr",
          "text": []
        },
        {
          "output_type": "stream",
          "name": "stdout",
          "text": [
            "\tTrain Loss 0.0133\t Learning Rate 0.0000247\t Validation Loss 0.3172\n",
            "\n",
            "Epoch: 141/300\n"
          ]
        },
        {
          "output_type": "stream",
          "name": "stderr",
          "text": []
        },
        {
          "output_type": "stream",
          "name": "stdout",
          "text": [
            "\tTrain Loss 0.0138\t Learning Rate 0.0000245\t Validation Loss 0.3954\n",
            "\n",
            "Epoch: 142/300\n"
          ]
        },
        {
          "output_type": "stream",
          "name": "stderr",
          "text": []
        },
        {
          "output_type": "stream",
          "name": "stdout",
          "text": [
            "\tTrain Loss 0.0128\t Learning Rate 0.0000242\t Validation Loss 0.3462\n",
            "\n",
            "Epoch: 143/300\n"
          ]
        },
        {
          "output_type": "stream",
          "name": "stderr",
          "text": []
        },
        {
          "output_type": "stream",
          "name": "stdout",
          "text": [
            "\tTrain Loss 0.0139\t Learning Rate 0.0000240\t Validation Loss 0.3253\n",
            "\n",
            "Epoch: 144/300\n"
          ]
        },
        {
          "output_type": "stream",
          "name": "stderr",
          "text": []
        },
        {
          "output_type": "stream",
          "name": "stdout",
          "text": [
            "\tTrain Loss 0.0123\t Learning Rate 0.0000238\t Validation Loss 0.3428\n",
            "\n",
            "Epoch: 145/300\n"
          ]
        },
        {
          "output_type": "stream",
          "name": "stderr",
          "text": []
        },
        {
          "output_type": "stream",
          "name": "stdout",
          "text": [
            "\tTrain Loss 0.0134\t Learning Rate 0.0000235\t Validation Loss 0.3300\n",
            "\n",
            "Epoch: 146/300\n"
          ]
        },
        {
          "output_type": "stream",
          "name": "stderr",
          "text": []
        },
        {
          "output_type": "stream",
          "name": "stdout",
          "text": [
            "\tTrain Loss 0.0131\t Learning Rate 0.0000233\t Validation Loss 0.2932\n",
            "\n",
            "Epoch: 147/300\n"
          ]
        },
        {
          "output_type": "stream",
          "name": "stderr",
          "text": []
        },
        {
          "output_type": "stream",
          "name": "stdout",
          "text": [
            "\tTrain Loss 0.0127\t Learning Rate 0.0000231\t Validation Loss 0.2735\n",
            "\n",
            "Epoch: 148/300\n"
          ]
        },
        {
          "output_type": "stream",
          "name": "stderr",
          "text": []
        },
        {
          "output_type": "stream",
          "name": "stdout",
          "text": [
            "\tTrain Loss 0.0130\t Learning Rate 0.0000228\t Validation Loss 0.2102\n",
            "\n",
            "Epoch: 149/300\n"
          ]
        },
        {
          "output_type": "stream",
          "name": "stderr",
          "text": []
        },
        {
          "output_type": "stream",
          "name": "stdout",
          "text": [
            "\tTrain Loss 0.0128\t Learning Rate 0.0000226\t Validation Loss 0.2318\n",
            "\n",
            "Epoch: 150/300\n"
          ]
        },
        {
          "output_type": "stream",
          "name": "stderr",
          "text": []
        },
        {
          "output_type": "stream",
          "name": "stdout",
          "text": [
            "\tTrain Loss 0.0122\t Learning Rate 0.0000224\t Validation Loss 0.2774\n",
            "\n",
            "Epoch: 151/300\n"
          ]
        },
        {
          "output_type": "stream",
          "name": "stderr",
          "text": []
        },
        {
          "output_type": "stream",
          "name": "stdout",
          "text": [
            "\tTrain Loss 0.0121\t Learning Rate 0.0000221\t Validation Loss 0.3318\n",
            "\n",
            "Epoch: 152/300\n"
          ]
        },
        {
          "output_type": "stream",
          "name": "stderr",
          "text": []
        },
        {
          "output_type": "stream",
          "name": "stdout",
          "text": [
            "\tTrain Loss 0.0132\t Learning Rate 0.0000219\t Validation Loss 0.4345\n",
            "\n",
            "Epoch: 153/300\n"
          ]
        },
        {
          "output_type": "stream",
          "name": "stderr",
          "text": []
        },
        {
          "output_type": "stream",
          "name": "stdout",
          "text": [
            "\tTrain Loss 0.0139\t Learning Rate 0.0000217\t Validation Loss 0.3593\n",
            "\n",
            "Epoch: 154/300\n"
          ]
        },
        {
          "output_type": "stream",
          "name": "stderr",
          "text": []
        },
        {
          "output_type": "stream",
          "name": "stdout",
          "text": [
            "\tTrain Loss 0.0126\t Learning Rate 0.0000215\t Validation Loss 0.2625\n",
            "\n",
            "Epoch: 155/300\n"
          ]
        },
        {
          "output_type": "stream",
          "name": "stderr",
          "text": []
        },
        {
          "output_type": "stream",
          "name": "stdout",
          "text": [
            "\tTrain Loss 0.0142\t Learning Rate 0.0000213\t Validation Loss 0.2779\n",
            "\n",
            "Epoch: 156/300\n"
          ]
        },
        {
          "output_type": "stream",
          "name": "stderr",
          "text": []
        },
        {
          "output_type": "stream",
          "name": "stdout",
          "text": [
            "\tTrain Loss 0.0129\t Learning Rate 0.0000211\t Validation Loss 0.2773\n",
            "\n",
            "Epoch: 157/300\n"
          ]
        },
        {
          "output_type": "stream",
          "name": "stderr",
          "text": []
        },
        {
          "output_type": "stream",
          "name": "stdout",
          "text": [
            "\tTrain Loss 0.0131\t Learning Rate 0.0000208\t Validation Loss 0.2604\n",
            "\n",
            "Epoch: 158/300\n"
          ]
        },
        {
          "output_type": "stream",
          "name": "stderr",
          "text": []
        },
        {
          "output_type": "stream",
          "name": "stdout",
          "text": [
            "\tTrain Loss 0.0137\t Learning Rate 0.0000206\t Validation Loss 0.3124\n",
            "\n",
            "Epoch: 159/300\n"
          ]
        },
        {
          "output_type": "stream",
          "name": "stderr",
          "text": []
        },
        {
          "output_type": "stream",
          "name": "stdout",
          "text": [
            "\tTrain Loss 0.0135\t Learning Rate 0.0000204\t Validation Loss 0.3238\n",
            "\n",
            "Epoch: 160/300\n"
          ]
        },
        {
          "output_type": "stream",
          "name": "stderr",
          "text": []
        },
        {
          "output_type": "stream",
          "name": "stdout",
          "text": [
            "\tTrain Loss 0.0116\t Learning Rate 0.0000202\t Validation Loss 0.2911\n",
            "\n",
            "Epoch: 161/300\n"
          ]
        },
        {
          "output_type": "stream",
          "name": "stderr",
          "text": []
        },
        {
          "output_type": "stream",
          "name": "stdout",
          "text": [
            "\tTrain Loss 0.0135\t Learning Rate 0.0000200\t Validation Loss 0.4552\n",
            "\n",
            "Epoch: 162/300\n"
          ]
        },
        {
          "output_type": "stream",
          "name": "stderr",
          "text": []
        },
        {
          "output_type": "stream",
          "name": "stdout",
          "text": [
            "\tTrain Loss 0.0114\t Learning Rate 0.0000198\t Validation Loss 0.4909\n",
            "\n",
            "Epoch: 163/300\n"
          ]
        },
        {
          "output_type": "stream",
          "name": "stderr",
          "text": []
        },
        {
          "output_type": "stream",
          "name": "stdout",
          "text": [
            "\tTrain Loss 0.0131\t Learning Rate 0.0000196\t Validation Loss 0.3084\n",
            "\n",
            "Epoch: 164/300\n"
          ]
        },
        {
          "output_type": "stream",
          "name": "stderr",
          "text": []
        },
        {
          "output_type": "stream",
          "name": "stdout",
          "text": [
            "\tTrain Loss 0.0128\t Learning Rate 0.0000194\t Validation Loss 0.2398\n",
            "\n",
            "Epoch: 165/300\n"
          ]
        },
        {
          "output_type": "stream",
          "name": "stderr",
          "text": []
        },
        {
          "output_type": "stream",
          "name": "stdout",
          "text": [
            "\tTrain Loss 0.0132\t Learning Rate 0.0000192\t Validation Loss 0.3504\n",
            "\n",
            "Epoch: 166/300\n"
          ]
        },
        {
          "output_type": "stream",
          "name": "stderr",
          "text": []
        },
        {
          "output_type": "stream",
          "name": "stdout",
          "text": [
            "\tTrain Loss 0.0114\t Learning Rate 0.0000190\t Validation Loss 0.4440\n",
            "\n",
            "Epoch: 167/300\n"
          ]
        },
        {
          "output_type": "stream",
          "name": "stderr",
          "text": []
        },
        {
          "output_type": "stream",
          "name": "stdout",
          "text": [
            "\tTrain Loss 0.0125\t Learning Rate 0.0000189\t Validation Loss 0.3602\n",
            "\n",
            "Epoch: 168/300\n"
          ]
        },
        {
          "output_type": "stream",
          "name": "stderr",
          "text": []
        },
        {
          "output_type": "stream",
          "name": "stdout",
          "text": [
            "\tTrain Loss 0.0127\t Learning Rate 0.0000187\t Validation Loss 0.2910\n",
            "\n",
            "Epoch: 169/300\n"
          ]
        },
        {
          "output_type": "stream",
          "name": "stderr",
          "text": []
        },
        {
          "output_type": "stream",
          "name": "stdout",
          "text": [
            "\tTrain Loss 0.0127\t Learning Rate 0.0000185\t Validation Loss 0.3304\n",
            "\n",
            "Epoch: 170/300\n"
          ]
        },
        {
          "output_type": "stream",
          "name": "stderr",
          "text": []
        },
        {
          "output_type": "stream",
          "name": "stdout",
          "text": [
            "\tTrain Loss 0.0129\t Learning Rate 0.0000183\t Validation Loss 0.4133\n",
            "\n",
            "Epoch: 171/300\n"
          ]
        },
        {
          "output_type": "stream",
          "name": "stderr",
          "text": []
        },
        {
          "output_type": "stream",
          "name": "stdout",
          "text": [
            "\tTrain Loss 0.0117\t Learning Rate 0.0000181\t Validation Loss 0.3718\n",
            "\n",
            "Epoch: 172/300\n"
          ]
        },
        {
          "output_type": "stream",
          "name": "stderr",
          "text": []
        },
        {
          "output_type": "stream",
          "name": "stdout",
          "text": [
            "\tTrain Loss 0.0136\t Learning Rate 0.0000179\t Validation Loss 0.3582\n",
            "\n",
            "Epoch: 173/300\n"
          ]
        },
        {
          "output_type": "stream",
          "name": "stderr",
          "text": []
        },
        {
          "output_type": "stream",
          "name": "stdout",
          "text": [
            "\tTrain Loss 0.0125\t Learning Rate 0.0000178\t Validation Loss 0.3280\n",
            "\n",
            "Epoch: 174/300\n"
          ]
        },
        {
          "output_type": "stream",
          "name": "stderr",
          "text": []
        },
        {
          "output_type": "stream",
          "name": "stdout",
          "text": [
            "\tTrain Loss 0.0132\t Learning Rate 0.0000176\t Validation Loss 0.2993\n",
            "\n",
            "Epoch: 175/300\n"
          ]
        },
        {
          "output_type": "stream",
          "name": "stderr",
          "text": []
        },
        {
          "output_type": "stream",
          "name": "stdout",
          "text": [
            "\tTrain Loss 0.0122\t Learning Rate 0.0000174\t Validation Loss 0.2909\n",
            "\n",
            "Epoch: 176/300\n"
          ]
        },
        {
          "output_type": "stream",
          "name": "stderr",
          "text": []
        },
        {
          "output_type": "stream",
          "name": "stdout",
          "text": [
            "\tTrain Loss 0.0127\t Learning Rate 0.0000172\t Validation Loss 0.2753\n",
            "\n",
            "Epoch: 177/300\n"
          ]
        },
        {
          "output_type": "stream",
          "name": "stderr",
          "text": []
        },
        {
          "output_type": "stream",
          "name": "stdout",
          "text": [
            "\tTrain Loss 0.0118\t Learning Rate 0.0000171\t Validation Loss 0.2927\n",
            "\n",
            "Epoch: 178/300\n"
          ]
        },
        {
          "output_type": "stream",
          "name": "stderr",
          "text": []
        },
        {
          "output_type": "stream",
          "name": "stdout",
          "text": [
            "\tTrain Loss 0.0115\t Learning Rate 0.0000169\t Validation Loss 0.2975\n",
            "\n",
            "Epoch: 179/300\n"
          ]
        },
        {
          "output_type": "stream",
          "name": "stderr",
          "text": []
        },
        {
          "output_type": "stream",
          "name": "stdout",
          "text": [
            "\tTrain Loss 0.0120\t Learning Rate 0.0000167\t Validation Loss 0.2918\n",
            "\n",
            "Epoch: 180/300\n"
          ]
        },
        {
          "output_type": "stream",
          "name": "stderr",
          "text": []
        },
        {
          "output_type": "stream",
          "name": "stdout",
          "text": [
            "\tTrain Loss 0.0123\t Learning Rate 0.0000165\t Validation Loss 0.3072\n",
            "\n",
            "Epoch: 181/300\n"
          ]
        },
        {
          "output_type": "stream",
          "name": "stderr",
          "text": []
        },
        {
          "output_type": "stream",
          "name": "stdout",
          "text": [
            "\tTrain Loss 0.0115\t Learning Rate 0.0000164\t Validation Loss 0.3149\n",
            "\n",
            "Epoch: 182/300\n"
          ]
        },
        {
          "output_type": "stream",
          "name": "stderr",
          "text": []
        },
        {
          "output_type": "stream",
          "name": "stdout",
          "text": [
            "\tTrain Loss 0.0119\t Learning Rate 0.0000162\t Validation Loss 0.3373\n",
            "\n",
            "Epoch: 183/300\n"
          ]
        },
        {
          "output_type": "stream",
          "name": "stderr",
          "text": []
        },
        {
          "output_type": "stream",
          "name": "stdout",
          "text": [
            "\tTrain Loss 0.0115\t Learning Rate 0.0000161\t Validation Loss 0.3210\n",
            "\n",
            "Epoch: 184/300\n"
          ]
        },
        {
          "output_type": "stream",
          "name": "stderr",
          "text": []
        },
        {
          "output_type": "stream",
          "name": "stdout",
          "text": [
            "\tTrain Loss 0.0124\t Learning Rate 0.0000159\t Validation Loss 0.3281\n",
            "\n",
            "Epoch: 185/300\n"
          ]
        },
        {
          "output_type": "stream",
          "name": "stderr",
          "text": []
        },
        {
          "output_type": "stream",
          "name": "stdout",
          "text": [
            "\tTrain Loss 0.0121\t Learning Rate 0.0000157\t Validation Loss 0.3588\n",
            "\n",
            "Epoch: 186/300\n"
          ]
        },
        {
          "output_type": "stream",
          "name": "stderr",
          "text": []
        },
        {
          "output_type": "stream",
          "name": "stdout",
          "text": [
            "\tTrain Loss 0.0113\t Learning Rate 0.0000156\t Validation Loss 0.3240\n",
            "\n",
            "Epoch: 187/300\n"
          ]
        },
        {
          "output_type": "stream",
          "name": "stderr",
          "text": []
        },
        {
          "output_type": "stream",
          "name": "stdout",
          "text": [
            "\tTrain Loss 0.0121\t Learning Rate 0.0000154\t Validation Loss 0.3067\n",
            "\n",
            "Epoch: 188/300\n"
          ]
        },
        {
          "output_type": "stream",
          "name": "stderr",
          "text": []
        },
        {
          "output_type": "stream",
          "name": "stdout",
          "text": [
            "\tTrain Loss 0.0129\t Learning Rate 0.0000153\t Validation Loss 0.3096\n",
            "\n",
            "Epoch: 189/300\n"
          ]
        },
        {
          "output_type": "stream",
          "name": "stderr",
          "text": []
        },
        {
          "output_type": "stream",
          "name": "stdout",
          "text": [
            "\tTrain Loss 0.0118\t Learning Rate 0.0000151\t Validation Loss 0.3311\n",
            "\n",
            "Epoch: 190/300\n"
          ]
        },
        {
          "output_type": "stream",
          "name": "stderr",
          "text": []
        },
        {
          "output_type": "stream",
          "name": "stdout",
          "text": [
            "\tTrain Loss 0.0121\t Learning Rate 0.0000150\t Validation Loss 0.3308\n",
            "\n",
            "Epoch: 191/300\n"
          ]
        },
        {
          "output_type": "stream",
          "name": "stderr",
          "text": []
        },
        {
          "output_type": "stream",
          "name": "stdout",
          "text": [
            "\tTrain Loss 0.0115\t Learning Rate 0.0000148\t Validation Loss 0.3571\n",
            "\n",
            "Epoch: 192/300\n"
          ]
        },
        {
          "output_type": "stream",
          "name": "stderr",
          "text": []
        },
        {
          "output_type": "stream",
          "name": "stdout",
          "text": [
            "\tTrain Loss 0.0117\t Learning Rate 0.0000147\t Validation Loss 0.4073\n",
            "\n",
            "Epoch: 193/300\n"
          ]
        },
        {
          "output_type": "stream",
          "name": "stderr",
          "text": []
        },
        {
          "output_type": "stream",
          "name": "stdout",
          "text": [
            "\tTrain Loss 0.0121\t Learning Rate 0.0000145\t Validation Loss 0.3853\n",
            "\n",
            "Epoch: 194/300\n"
          ]
        },
        {
          "output_type": "stream",
          "name": "stderr",
          "text": []
        },
        {
          "output_type": "stream",
          "name": "stdout",
          "text": [
            "\tTrain Loss 0.0118\t Learning Rate 0.0000144\t Validation Loss 0.3437\n",
            "\n",
            "Epoch: 195/300\n"
          ]
        },
        {
          "output_type": "stream",
          "name": "stderr",
          "text": []
        },
        {
          "output_type": "stream",
          "name": "stdout",
          "text": [
            "\tTrain Loss 0.0115\t Learning Rate 0.0000142\t Validation Loss 0.3323\n",
            "\n",
            "Epoch: 196/300\n"
          ]
        },
        {
          "output_type": "stream",
          "name": "stderr",
          "text": []
        },
        {
          "output_type": "stream",
          "name": "stdout",
          "text": [
            "\tTrain Loss 0.0108\t Learning Rate 0.0000141\t Validation Loss 0.3154\n",
            "\n",
            "Epoch: 197/300\n"
          ]
        },
        {
          "output_type": "stream",
          "name": "stderr",
          "text": []
        },
        {
          "output_type": "stream",
          "name": "stdout",
          "text": [
            "\tTrain Loss 0.0120\t Learning Rate 0.0000139\t Validation Loss 0.2886\n",
            "\n",
            "Epoch: 198/300\n"
          ]
        },
        {
          "output_type": "stream",
          "name": "stderr",
          "text": []
        },
        {
          "output_type": "stream",
          "name": "stdout",
          "text": [
            "\tTrain Loss 0.0117\t Learning Rate 0.0000138\t Validation Loss 0.2932\n",
            "\n",
            "Epoch: 199/300\n"
          ]
        },
        {
          "output_type": "stream",
          "name": "stderr",
          "text": []
        },
        {
          "output_type": "stream",
          "name": "stdout",
          "text": [
            "\tTrain Loss 0.0120\t Learning Rate 0.0000137\t Validation Loss 0.3682\n",
            "\n",
            "Epoch: 200/300\n"
          ]
        },
        {
          "output_type": "stream",
          "name": "stderr",
          "text": []
        },
        {
          "output_type": "stream",
          "name": "stdout",
          "text": [
            "\tTrain Loss 0.0120\t Learning Rate 0.0000135\t Validation Loss 0.3715\n",
            "\n",
            "Epoch: 201/300\n"
          ]
        },
        {
          "output_type": "stream",
          "name": "stderr",
          "text": []
        },
        {
          "output_type": "stream",
          "name": "stdout",
          "text": [
            "\tTrain Loss 0.0132\t Learning Rate 0.0000134\t Validation Loss 0.3235\n",
            "\n",
            "Epoch: 202/300\n"
          ]
        },
        {
          "output_type": "stream",
          "name": "stderr",
          "text": []
        },
        {
          "output_type": "stream",
          "name": "stdout",
          "text": [
            "\tTrain Loss 0.0113\t Learning Rate 0.0000133\t Validation Loss 0.3489\n",
            "\n",
            "Epoch: 203/300\n"
          ]
        },
        {
          "output_type": "stream",
          "name": "stderr",
          "text": []
        },
        {
          "output_type": "stream",
          "name": "stdout",
          "text": [
            "\tTrain Loss 0.0123\t Learning Rate 0.0000131\t Validation Loss 0.3811\n",
            "\n",
            "Epoch: 204/300\n"
          ]
        },
        {
          "output_type": "stream",
          "name": "stderr",
          "text": []
        },
        {
          "output_type": "stream",
          "name": "stdout",
          "text": [
            "\tTrain Loss 0.0115\t Learning Rate 0.0000130\t Validation Loss 0.3716\n",
            "\n",
            "Epoch: 205/300\n"
          ]
        },
        {
          "output_type": "stream",
          "name": "stderr",
          "text": []
        },
        {
          "output_type": "stream",
          "name": "stdout",
          "text": [
            "\tTrain Loss 0.0116\t Learning Rate 0.0000129\t Validation Loss 0.4171\n",
            "\n",
            "Epoch: 206/300\n"
          ]
        },
        {
          "output_type": "stream",
          "name": "stderr",
          "text": []
        },
        {
          "output_type": "stream",
          "name": "stdout",
          "text": [
            "\tTrain Loss 0.0137\t Learning Rate 0.0000127\t Validation Loss 0.3949\n",
            "\n",
            "Epoch: 207/300\n"
          ]
        },
        {
          "output_type": "stream",
          "name": "stderr",
          "text": []
        },
        {
          "output_type": "stream",
          "name": "stdout",
          "text": [
            "\tTrain Loss 0.0119\t Learning Rate 0.0000126\t Validation Loss 0.3174\n",
            "\n",
            "Epoch: 208/300\n"
          ]
        },
        {
          "output_type": "stream",
          "name": "stderr",
          "text": []
        },
        {
          "output_type": "stream",
          "name": "stdout",
          "text": [
            "\tTrain Loss 0.0128\t Learning Rate 0.0000125\t Validation Loss 0.3032\n",
            "\n",
            "Epoch: 209/300\n"
          ]
        },
        {
          "output_type": "stream",
          "name": "stderr",
          "text": []
        },
        {
          "output_type": "stream",
          "name": "stdout",
          "text": [
            "\tTrain Loss 0.0116\t Learning Rate 0.0000124\t Validation Loss 0.3053\n",
            "\n",
            "Epoch: 210/300\n"
          ]
        },
        {
          "output_type": "stream",
          "name": "stderr",
          "text": []
        },
        {
          "output_type": "stream",
          "name": "stdout",
          "text": [
            "\tTrain Loss 0.0127\t Learning Rate 0.0000122\t Validation Loss 0.3126\n",
            "\n",
            "Epoch: 211/300\n"
          ]
        },
        {
          "output_type": "stream",
          "name": "stderr",
          "text": []
        },
        {
          "output_type": "stream",
          "name": "stdout",
          "text": [
            "\tTrain Loss 0.0123\t Learning Rate 0.0000121\t Validation Loss 0.3565\n",
            "\n",
            "Epoch: 212/300\n"
          ]
        },
        {
          "output_type": "stream",
          "name": "stderr",
          "text": []
        },
        {
          "output_type": "stream",
          "name": "stdout",
          "text": [
            "\tTrain Loss 0.0119\t Learning Rate 0.0000120\t Validation Loss 0.3551\n",
            "\n",
            "Epoch: 213/300\n"
          ]
        },
        {
          "output_type": "stream",
          "name": "stderr",
          "text": []
        },
        {
          "output_type": "stream",
          "name": "stdout",
          "text": [
            "\tTrain Loss 0.0117\t Learning Rate 0.0000119\t Validation Loss 0.3240\n",
            "\n",
            "Epoch: 214/300\n"
          ]
        },
        {
          "output_type": "stream",
          "name": "stderr",
          "text": []
        },
        {
          "output_type": "stream",
          "name": "stdout",
          "text": [
            "\tTrain Loss 0.0124\t Learning Rate 0.0000118\t Validation Loss 0.3150\n",
            "\n",
            "Epoch: 215/300\n"
          ]
        },
        {
          "output_type": "stream",
          "name": "stderr",
          "text": []
        },
        {
          "output_type": "stream",
          "name": "stdout",
          "text": [
            "\tTrain Loss 0.0113\t Learning Rate 0.0000116\t Validation Loss 0.3470\n",
            "\n",
            "Epoch: 216/300\n"
          ]
        },
        {
          "output_type": "stream",
          "name": "stderr",
          "text": []
        },
        {
          "output_type": "stream",
          "name": "stdout",
          "text": [
            "\tTrain Loss 0.0123\t Learning Rate 0.0000115\t Validation Loss 0.3428\n",
            "\n",
            "Epoch: 217/300\n"
          ]
        },
        {
          "output_type": "stream",
          "name": "stderr",
          "text": []
        },
        {
          "output_type": "stream",
          "name": "stdout",
          "text": [
            "\tTrain Loss 0.0129\t Learning Rate 0.0000114\t Validation Loss 0.2789\n",
            "\n",
            "Epoch: 218/300\n"
          ]
        },
        {
          "output_type": "stream",
          "name": "stderr",
          "text": []
        },
        {
          "output_type": "stream",
          "name": "stdout",
          "text": [
            "\tTrain Loss 0.0113\t Learning Rate 0.0000113\t Validation Loss 0.2527\n",
            "\n",
            "Epoch: 219/300\n"
          ]
        },
        {
          "output_type": "stream",
          "name": "stderr",
          "text": []
        },
        {
          "output_type": "stream",
          "name": "stdout",
          "text": [
            "\tTrain Loss 0.0114\t Learning Rate 0.0000112\t Validation Loss 0.2723\n",
            "\n",
            "Epoch: 220/300\n"
          ]
        },
        {
          "output_type": "stream",
          "name": "stderr",
          "text": []
        },
        {
          "output_type": "stream",
          "name": "stdout",
          "text": [
            "\tTrain Loss 0.0118\t Learning Rate 0.0000111\t Validation Loss 0.2934\n",
            "\n",
            "Epoch: 221/300\n"
          ]
        },
        {
          "output_type": "stream",
          "name": "stderr",
          "text": []
        },
        {
          "output_type": "stream",
          "name": "stdout",
          "text": [
            "\tTrain Loss 0.0124\t Learning Rate 0.0000110\t Validation Loss 0.3113\n",
            "\n",
            "Epoch: 222/300\n"
          ]
        },
        {
          "output_type": "stream",
          "name": "stderr",
          "text": []
        },
        {
          "output_type": "stream",
          "name": "stdout",
          "text": [
            "\tTrain Loss 0.0109\t Learning Rate 0.0000108\t Validation Loss 0.3364\n",
            "\n",
            "Epoch: 223/300\n"
          ]
        },
        {
          "output_type": "stream",
          "name": "stderr",
          "text": []
        },
        {
          "output_type": "stream",
          "name": "stdout",
          "text": [
            "\tTrain Loss 0.0109\t Learning Rate 0.0000107\t Validation Loss 0.3608\n",
            "\n",
            "Epoch: 224/300\n"
          ]
        },
        {
          "output_type": "stream",
          "name": "stderr",
          "text": []
        },
        {
          "output_type": "stream",
          "name": "stdout",
          "text": [
            "\tTrain Loss 0.0117\t Learning Rate 0.0000106\t Validation Loss 0.3654\n",
            "\n",
            "Epoch: 225/300\n"
          ]
        },
        {
          "output_type": "stream",
          "name": "stderr",
          "text": []
        },
        {
          "output_type": "stream",
          "name": "stdout",
          "text": [
            "\tTrain Loss 0.0110\t Learning Rate 0.0000105\t Validation Loss 0.3405\n",
            "\n",
            "Epoch: 226/300\n"
          ]
        },
        {
          "output_type": "stream",
          "name": "stderr",
          "text": []
        },
        {
          "output_type": "stream",
          "name": "stdout",
          "text": [
            "\tTrain Loss 0.0112\t Learning Rate 0.0000104\t Validation Loss 0.2884\n",
            "\n",
            "Epoch: 227/300\n"
          ]
        },
        {
          "output_type": "stream",
          "name": "stderr",
          "text": []
        },
        {
          "output_type": "stream",
          "name": "stdout",
          "text": [
            "\tTrain Loss 0.0117\t Learning Rate 0.0000103\t Validation Loss 0.2585\n",
            "\n",
            "Epoch: 228/300\n"
          ]
        },
        {
          "output_type": "stream",
          "name": "stderr",
          "text": []
        },
        {
          "output_type": "stream",
          "name": "stdout",
          "text": [
            "\tTrain Loss 0.0112\t Learning Rate 0.0000102\t Validation Loss 0.2721\n",
            "\n",
            "Epoch: 229/300\n"
          ]
        },
        {
          "output_type": "stream",
          "name": "stderr",
          "text": []
        },
        {
          "output_type": "stream",
          "name": "stdout",
          "text": [
            "\tTrain Loss 0.0114\t Learning Rate 0.0000101\t Validation Loss 0.3051\n",
            "\n",
            "Epoch: 230/300\n"
          ]
        },
        {
          "output_type": "stream",
          "name": "stderr",
          "text": []
        },
        {
          "output_type": "stream",
          "name": "stdout",
          "text": [
            "\tTrain Loss 0.0108\t Learning Rate 0.0000100\t Validation Loss 0.3416\n",
            "\n",
            "Epoch: 231/300\n"
          ]
        },
        {
          "output_type": "stream",
          "name": "stderr",
          "text": []
        },
        {
          "output_type": "stream",
          "name": "stdout",
          "text": [
            "\tTrain Loss 0.0109\t Learning Rate 0.0000099\t Validation Loss 0.3583\n",
            "\n",
            "Epoch: 232/300\n"
          ]
        },
        {
          "output_type": "stream",
          "name": "stderr",
          "text": []
        },
        {
          "output_type": "stream",
          "name": "stdout",
          "text": [
            "\tTrain Loss 0.0117\t Learning Rate 0.0000098\t Validation Loss 0.3799\n",
            "\n",
            "Epoch: 233/300\n"
          ]
        },
        {
          "output_type": "stream",
          "name": "stderr",
          "text": []
        },
        {
          "output_type": "stream",
          "name": "stdout",
          "text": [
            "\tTrain Loss 0.0104\t Learning Rate 0.0000097\t Validation Loss 0.3584\n",
            "\n",
            "Epoch: 234/300\n"
          ]
        },
        {
          "output_type": "stream",
          "name": "stderr",
          "text": []
        },
        {
          "output_type": "stream",
          "name": "stdout",
          "text": [
            "\tTrain Loss 0.0108\t Learning Rate 0.0000096\t Validation Loss 0.3122\n",
            "\n",
            "Epoch: 235/300\n"
          ]
        },
        {
          "output_type": "stream",
          "name": "stderr",
          "text": []
        },
        {
          "output_type": "stream",
          "name": "stdout",
          "text": [
            "\tTrain Loss 0.0109\t Learning Rate 0.0000095\t Validation Loss 0.2653\n",
            "\n",
            "Epoch: 236/300\n"
          ]
        },
        {
          "output_type": "stream",
          "name": "stderr",
          "text": []
        },
        {
          "output_type": "stream",
          "name": "stdout",
          "text": [
            "\tTrain Loss 0.0114\t Learning Rate 0.0000094\t Validation Loss 0.2591\n",
            "\n",
            "Epoch: 237/300\n"
          ]
        },
        {
          "output_type": "stream",
          "name": "stderr",
          "text": []
        },
        {
          "output_type": "stream",
          "name": "stdout",
          "text": [
            "\tTrain Loss 0.0114\t Learning Rate 0.0000093\t Validation Loss 0.2906\n",
            "\n",
            "Epoch: 238/300\n"
          ]
        },
        {
          "output_type": "stream",
          "name": "stderr",
          "text": []
        },
        {
          "output_type": "stream",
          "name": "stdout",
          "text": [
            "\tTrain Loss 0.0119\t Learning Rate 0.0000092\t Validation Loss 0.3428\n",
            "\n",
            "Epoch: 239/300\n"
          ]
        },
        {
          "output_type": "stream",
          "name": "stderr",
          "text": []
        },
        {
          "output_type": "stream",
          "name": "stdout",
          "text": [
            "\tTrain Loss 0.0118\t Learning Rate 0.0000091\t Validation Loss 0.4016\n",
            "\n",
            "Epoch: 240/300\n"
          ]
        },
        {
          "output_type": "stream",
          "name": "stderr",
          "text": []
        },
        {
          "output_type": "stream",
          "name": "stdout",
          "text": [
            "\tTrain Loss 0.0112\t Learning Rate 0.0000091\t Validation Loss 0.4473\n",
            "\n",
            "Epoch: 241/300\n"
          ]
        },
        {
          "output_type": "stream",
          "name": "stderr",
          "text": []
        },
        {
          "output_type": "stream",
          "name": "stdout",
          "text": [
            "\tTrain Loss 0.0108\t Learning Rate 0.0000090\t Validation Loss 0.4331\n",
            "\n",
            "Epoch: 242/300\n"
          ]
        },
        {
          "output_type": "stream",
          "name": "stderr",
          "text": []
        },
        {
          "output_type": "stream",
          "name": "stdout",
          "text": [
            "\tTrain Loss 0.0108\t Learning Rate 0.0000089\t Validation Loss 0.3598\n",
            "\n",
            "Epoch: 243/300\n"
          ]
        },
        {
          "output_type": "stream",
          "name": "stderr",
          "text": []
        },
        {
          "output_type": "stream",
          "name": "stdout",
          "text": [
            "\tTrain Loss 0.0115\t Learning Rate 0.0000088\t Validation Loss 0.3010\n",
            "\n",
            "Epoch: 244/300\n"
          ]
        },
        {
          "output_type": "stream",
          "name": "stderr",
          "text": []
        },
        {
          "output_type": "stream",
          "name": "stdout",
          "text": [
            "\tTrain Loss 0.0105\t Learning Rate 0.0000087\t Validation Loss 0.3083\n",
            "\n",
            "Epoch: 245/300\n"
          ]
        },
        {
          "output_type": "stream",
          "name": "stderr",
          "text": []
        },
        {
          "output_type": "stream",
          "name": "stdout",
          "text": [
            "\tTrain Loss 0.0109\t Learning Rate 0.0000086\t Validation Loss 0.3105\n",
            "\n",
            "Epoch: 246/300\n"
          ]
        },
        {
          "output_type": "stream",
          "name": "stderr",
          "text": []
        },
        {
          "output_type": "stream",
          "name": "stdout",
          "text": [
            "\tTrain Loss 0.0117\t Learning Rate 0.0000085\t Validation Loss 0.3137\n",
            "\n",
            "Epoch: 247/300\n"
          ]
        },
        {
          "output_type": "stream",
          "name": "stderr",
          "text": []
        },
        {
          "output_type": "stream",
          "name": "stdout",
          "text": [
            "\tTrain Loss 0.0108\t Learning Rate 0.0000084\t Validation Loss 0.3082\n",
            "\n",
            "Epoch: 248/300\n"
          ]
        },
        {
          "output_type": "stream",
          "name": "stderr",
          "text": []
        },
        {
          "output_type": "stream",
          "name": "stdout",
          "text": [
            "\tTrain Loss 0.0106\t Learning Rate 0.0000084\t Validation Loss 0.3040\n",
            "\n",
            "Epoch: 249/300\n"
          ]
        },
        {
          "output_type": "stream",
          "name": "stderr",
          "text": []
        },
        {
          "output_type": "stream",
          "name": "stdout",
          "text": [
            "\tTrain Loss 0.0113\t Learning Rate 0.0000083\t Validation Loss 0.3089\n",
            "\n",
            "Epoch: 250/300\n"
          ]
        },
        {
          "output_type": "stream",
          "name": "stderr",
          "text": []
        },
        {
          "output_type": "stream",
          "name": "stdout",
          "text": [
            "\tTrain Loss 0.0108\t Learning Rate 0.0000082\t Validation Loss 0.3297\n",
            "\n",
            "Epoch: 251/300\n"
          ]
        },
        {
          "output_type": "stream",
          "name": "stderr",
          "text": []
        },
        {
          "output_type": "stream",
          "name": "stdout",
          "text": [
            "\tTrain Loss 0.0107\t Learning Rate 0.0000081\t Validation Loss 0.3668\n",
            "\n",
            "Epoch: 252/300\n"
          ]
        },
        {
          "output_type": "stream",
          "name": "stderr",
          "text": []
        },
        {
          "output_type": "stream",
          "name": "stdout",
          "text": [
            "\tTrain Loss 0.0107\t Learning Rate 0.0000080\t Validation Loss 0.3787\n",
            "\n",
            "Epoch: 253/300\n"
          ]
        },
        {
          "output_type": "stream",
          "name": "stderr",
          "text": []
        },
        {
          "output_type": "stream",
          "name": "stdout",
          "text": [
            "\tTrain Loss 0.0111\t Learning Rate 0.0000079\t Validation Loss 0.3624\n",
            "\n",
            "Epoch: 254/300\n"
          ]
        },
        {
          "output_type": "stream",
          "name": "stderr",
          "text": []
        },
        {
          "output_type": "stream",
          "name": "stdout",
          "text": [
            "\tTrain Loss 0.0117\t Learning Rate 0.0000079\t Validation Loss 0.3486\n",
            "\n",
            "Epoch: 255/300\n"
          ]
        },
        {
          "output_type": "stream",
          "name": "stderr",
          "text": []
        },
        {
          "output_type": "stream",
          "name": "stdout",
          "text": [
            "\tTrain Loss 0.0117\t Learning Rate 0.0000078\t Validation Loss 0.3388\n",
            "\n",
            "Epoch: 256/300\n"
          ]
        },
        {
          "output_type": "stream",
          "name": "stderr",
          "text": []
        },
        {
          "output_type": "stream",
          "name": "stdout",
          "text": [
            "\tTrain Loss 0.0107\t Learning Rate 0.0000077\t Validation Loss 0.3318\n",
            "\n",
            "Epoch: 257/300\n"
          ]
        },
        {
          "output_type": "stream",
          "name": "stderr",
          "text": []
        },
        {
          "output_type": "stream",
          "name": "stdout",
          "text": [
            "\tTrain Loss 0.0114\t Learning Rate 0.0000076\t Validation Loss 0.2905\n",
            "\n",
            "Epoch: 258/300\n"
          ]
        },
        {
          "output_type": "stream",
          "name": "stderr",
          "text": []
        },
        {
          "output_type": "stream",
          "name": "stdout",
          "text": [
            "\tTrain Loss 0.0108\t Learning Rate 0.0000076\t Validation Loss 0.2637\n",
            "\n",
            "Epoch: 259/300\n"
          ]
        },
        {
          "output_type": "stream",
          "name": "stderr",
          "text": []
        },
        {
          "output_type": "stream",
          "name": "stdout",
          "text": [
            "\tTrain Loss 0.0102\t Learning Rate 0.0000075\t Validation Loss 0.2577\n",
            "\n",
            "Epoch: 260/300\n"
          ]
        },
        {
          "output_type": "stream",
          "name": "stderr",
          "text": []
        },
        {
          "output_type": "stream",
          "name": "stdout",
          "text": [
            "\tTrain Loss 0.0121\t Learning Rate 0.0000074\t Validation Loss 0.2667\n",
            "\n",
            "Epoch: 261/300\n"
          ]
        },
        {
          "output_type": "stream",
          "name": "stderr",
          "text": []
        },
        {
          "output_type": "stream",
          "name": "stdout",
          "text": [
            "\tTrain Loss 0.0123\t Learning Rate 0.0000073\t Validation Loss 0.2952\n",
            "\n",
            "Epoch: 262/300\n"
          ]
        },
        {
          "output_type": "stream",
          "name": "stderr",
          "text": []
        },
        {
          "output_type": "stream",
          "name": "stdout",
          "text": [
            "\tTrain Loss 0.0118\t Learning Rate 0.0000073\t Validation Loss 0.3502\n",
            "\n",
            "Epoch: 263/300\n"
          ]
        },
        {
          "output_type": "stream",
          "name": "stderr",
          "text": []
        },
        {
          "output_type": "stream",
          "name": "stdout",
          "text": [
            "\tTrain Loss 0.0115\t Learning Rate 0.0000072\t Validation Loss 0.4055\n",
            "\n",
            "Epoch: 264/300\n"
          ]
        },
        {
          "output_type": "stream",
          "name": "stderr",
          "text": []
        },
        {
          "output_type": "stream",
          "name": "stdout",
          "text": [
            "\tTrain Loss 0.0111\t Learning Rate 0.0000071\t Validation Loss 0.4166\n",
            "\n",
            "Epoch: 265/300\n"
          ]
        },
        {
          "output_type": "stream",
          "name": "stderr",
          "text": []
        },
        {
          "output_type": "stream",
          "name": "stdout",
          "text": [
            "\tTrain Loss 0.0108\t Learning Rate 0.0000070\t Validation Loss 0.3639\n",
            "\n",
            "Epoch: 266/300\n"
          ]
        },
        {
          "output_type": "stream",
          "name": "stderr",
          "text": []
        },
        {
          "output_type": "stream",
          "name": "stdout",
          "text": [
            "\tTrain Loss 0.0114\t Learning Rate 0.0000070\t Validation Loss 0.3466\n",
            "\n",
            "Epoch: 267/300\n"
          ]
        },
        {
          "output_type": "stream",
          "name": "stderr",
          "text": []
        },
        {
          "output_type": "stream",
          "name": "stdout",
          "text": [
            "\tTrain Loss 0.0113\t Learning Rate 0.0000069\t Validation Loss 0.3840\n",
            "\n",
            "Epoch: 268/300\n"
          ]
        },
        {
          "output_type": "stream",
          "name": "stderr",
          "text": []
        },
        {
          "output_type": "stream",
          "name": "stdout",
          "text": [
            "\tTrain Loss 0.0119\t Learning Rate 0.0000068\t Validation Loss 0.4136\n",
            "\n",
            "Epoch: 269/300\n"
          ]
        },
        {
          "output_type": "stream",
          "name": "stderr",
          "text": []
        },
        {
          "output_type": "stream",
          "name": "stdout",
          "text": [
            "\tTrain Loss 0.0110\t Learning Rate 0.0000068\t Validation Loss 0.3727\n",
            "\n",
            "Epoch: 270/300\n"
          ]
        },
        {
          "output_type": "stream",
          "name": "stderr",
          "text": []
        },
        {
          "output_type": "stream",
          "name": "stdout",
          "text": [
            "\tTrain Loss 0.0107\t Learning Rate 0.0000067\t Validation Loss 0.3057\n",
            "\n",
            "Epoch: 271/300\n"
          ]
        },
        {
          "output_type": "stream",
          "name": "stderr",
          "text": []
        },
        {
          "output_type": "stream",
          "name": "stdout",
          "text": [
            "\tTrain Loss 0.0108\t Learning Rate 0.0000066\t Validation Loss 0.2844\n",
            "\n",
            "Epoch: 272/300\n"
          ]
        },
        {
          "output_type": "stream",
          "name": "stderr",
          "text": []
        },
        {
          "output_type": "stream",
          "name": "stdout",
          "text": [
            "\tTrain Loss 0.0107\t Learning Rate 0.0000066\t Validation Loss 0.3008\n",
            "\n",
            "Epoch: 273/300\n"
          ]
        },
        {
          "output_type": "stream",
          "name": "stderr",
          "text": []
        },
        {
          "output_type": "stream",
          "name": "stdout",
          "text": [
            "\tTrain Loss 0.0116\t Learning Rate 0.0000065\t Validation Loss 0.3352\n",
            "\n",
            "Epoch: 274/300\n"
          ]
        },
        {
          "output_type": "stream",
          "name": "stderr",
          "text": []
        },
        {
          "output_type": "stream",
          "name": "stdout",
          "text": [
            "\tTrain Loss 0.0107\t Learning Rate 0.0000064\t Validation Loss 0.3848\n",
            "\n",
            "Epoch: 275/300\n"
          ]
        },
        {
          "output_type": "stream",
          "name": "stderr",
          "text": []
        },
        {
          "output_type": "stream",
          "name": "stdout",
          "text": [
            "\tTrain Loss 0.0112\t Learning Rate 0.0000064\t Validation Loss 0.3730\n",
            "\n",
            "Epoch: 276/300\n"
          ]
        },
        {
          "output_type": "stream",
          "name": "stderr",
          "text": []
        },
        {
          "output_type": "stream",
          "name": "stdout",
          "text": [
            "\tTrain Loss 0.0102\t Learning Rate 0.0000063\t Validation Loss 0.3251\n",
            "\n",
            "Epoch: 277/300\n"
          ]
        },
        {
          "output_type": "stream",
          "name": "stderr",
          "text": []
        },
        {
          "output_type": "stream",
          "name": "stdout",
          "text": [
            "\tTrain Loss 0.0117\t Learning Rate 0.0000062\t Validation Loss 0.2970\n",
            "\n",
            "Epoch: 278/300\n"
          ]
        },
        {
          "output_type": "stream",
          "name": "stderr",
          "text": []
        },
        {
          "output_type": "stream",
          "name": "stdout",
          "text": [
            "\tTrain Loss 0.0099\t Learning Rate 0.0000062\t Validation Loss 0.2888\n",
            "\n",
            "Epoch: 279/300\n"
          ]
        },
        {
          "output_type": "stream",
          "name": "stderr",
          "text": []
        },
        {
          "output_type": "stream",
          "name": "stdout",
          "text": [
            "\tTrain Loss 0.0114\t Learning Rate 0.0000061\t Validation Loss 0.2943\n",
            "\n",
            "Epoch: 280/300\n"
          ]
        },
        {
          "output_type": "stream",
          "name": "stderr",
          "text": []
        },
        {
          "output_type": "stream",
          "name": "stdout",
          "text": [
            "\tTrain Loss 0.0103\t Learning Rate 0.0000061\t Validation Loss 0.3017\n",
            "\n",
            "Epoch: 281/300\n"
          ]
        },
        {
          "output_type": "stream",
          "name": "stderr",
          "text": []
        },
        {
          "output_type": "stream",
          "name": "stdout",
          "text": [
            "\tTrain Loss 0.0108\t Learning Rate 0.0000060\t Validation Loss 0.3176\n",
            "\n",
            "Epoch: 282/300\n"
          ]
        },
        {
          "output_type": "stream",
          "name": "stderr",
          "text": []
        },
        {
          "output_type": "stream",
          "name": "stdout",
          "text": [
            "\tTrain Loss 0.0119\t Learning Rate 0.0000059\t Validation Loss 0.3252\n",
            "\n",
            "Epoch: 283/300\n"
          ]
        },
        {
          "output_type": "stream",
          "name": "stderr",
          "text": []
        },
        {
          "output_type": "stream",
          "name": "stdout",
          "text": [
            "\tTrain Loss 0.0112\t Learning Rate 0.0000059\t Validation Loss 0.3184\n",
            "\n",
            "Epoch: 284/300\n"
          ]
        },
        {
          "output_type": "stream",
          "name": "stderr",
          "text": []
        },
        {
          "output_type": "stream",
          "name": "stdout",
          "text": [
            "\tTrain Loss 0.0106\t Learning Rate 0.0000058\t Validation Loss 0.3088\n",
            "\n",
            "Epoch: 285/300\n"
          ]
        },
        {
          "output_type": "stream",
          "name": "stderr",
          "text": []
        },
        {
          "output_type": "stream",
          "name": "stdout",
          "text": [
            "\tTrain Loss 0.0118\t Learning Rate 0.0000058\t Validation Loss 0.2948\n",
            "\n",
            "Epoch: 286/300\n"
          ]
        },
        {
          "output_type": "stream",
          "name": "stderr",
          "text": []
        },
        {
          "output_type": "stream",
          "name": "stdout",
          "text": [
            "\tTrain Loss 0.0106\t Learning Rate 0.0000057\t Validation Loss 0.2791\n",
            "\n",
            "Epoch: 287/300\n"
          ]
        },
        {
          "output_type": "stream",
          "name": "stderr",
          "text": []
        },
        {
          "output_type": "stream",
          "name": "stdout",
          "text": [
            "\tTrain Loss 0.0112\t Learning Rate 0.0000056\t Validation Loss 0.2652\n",
            "\n",
            "Epoch: 288/300\n"
          ]
        },
        {
          "output_type": "stream",
          "name": "stderr",
          "text": []
        },
        {
          "output_type": "stream",
          "name": "stdout",
          "text": [
            "\tTrain Loss 0.0110\t Learning Rate 0.0000056\t Validation Loss 0.2598\n",
            "\n",
            "Epoch: 289/300\n"
          ]
        },
        {
          "output_type": "stream",
          "name": "stderr",
          "text": []
        },
        {
          "output_type": "stream",
          "name": "stdout",
          "text": [
            "\tTrain Loss 0.0106\t Learning Rate 0.0000055\t Validation Loss 0.2587\n",
            "\n",
            "Epoch: 290/300\n"
          ]
        },
        {
          "output_type": "stream",
          "name": "stderr",
          "text": []
        },
        {
          "output_type": "stream",
          "name": "stdout",
          "text": [
            "\tTrain Loss 0.0117\t Learning Rate 0.0000055\t Validation Loss 0.2700\n",
            "\n",
            "Epoch: 291/300\n"
          ]
        },
        {
          "output_type": "stream",
          "name": "stderr",
          "text": []
        },
        {
          "output_type": "stream",
          "name": "stdout",
          "text": [
            "\tTrain Loss 0.0103\t Learning Rate 0.0000054\t Validation Loss 0.2852\n",
            "\n",
            "Epoch: 292/300\n"
          ]
        },
        {
          "output_type": "stream",
          "name": "stderr",
          "text": []
        },
        {
          "output_type": "stream",
          "name": "stdout",
          "text": [
            "\tTrain Loss 0.0112\t Learning Rate 0.0000054\t Validation Loss 0.3085\n",
            "\n",
            "Epoch: 293/300\n"
          ]
        },
        {
          "output_type": "stream",
          "name": "stderr",
          "text": []
        },
        {
          "output_type": "stream",
          "name": "stdout",
          "text": [
            "\tTrain Loss 0.0112\t Learning Rate 0.0000053\t Validation Loss 0.3242\n",
            "\n",
            "Epoch: 294/300\n"
          ]
        },
        {
          "output_type": "stream",
          "name": "stderr",
          "text": []
        },
        {
          "output_type": "stream",
          "name": "stdout",
          "text": [
            "\tTrain Loss 0.0112\t Learning Rate 0.0000053\t Validation Loss 0.3291\n",
            "\n",
            "Epoch: 295/300\n"
          ]
        },
        {
          "output_type": "stream",
          "name": "stderr",
          "text": []
        },
        {
          "output_type": "stream",
          "name": "stdout",
          "text": [
            "\tTrain Loss 0.0100\t Learning Rate 0.0000052\t Validation Loss 0.3073\n",
            "\n",
            "Epoch: 296/300\n"
          ]
        },
        {
          "output_type": "stream",
          "name": "stderr",
          "text": []
        },
        {
          "output_type": "stream",
          "name": "stdout",
          "text": [
            "\tTrain Loss 0.0100\t Learning Rate 0.0000052\t Validation Loss 0.2913\n",
            "\n",
            "Epoch: 297/300\n"
          ]
        },
        {
          "output_type": "stream",
          "name": "stderr",
          "text": []
        },
        {
          "output_type": "stream",
          "name": "stdout",
          "text": [
            "\tTrain Loss 0.0115\t Learning Rate 0.0000051\t Validation Loss 0.2958\n",
            "\n",
            "Epoch: 298/300\n"
          ]
        },
        {
          "output_type": "stream",
          "name": "stderr",
          "text": []
        },
        {
          "output_type": "stream",
          "name": "stdout",
          "text": [
            "\tTrain Loss 0.0109\t Learning Rate 0.0000051\t Validation Loss 0.3105\n",
            "\n",
            "Epoch: 299/300\n"
          ]
        },
        {
          "output_type": "stream",
          "name": "stderr",
          "text": []
        },
        {
          "output_type": "stream",
          "name": "stdout",
          "text": [
            "\tTrain Loss 0.0112\t Learning Rate 0.0000050\t Validation Loss 0.3210\n",
            "\n",
            "Epoch: 300/300\n"
          ]
        },
        {
          "output_type": "stream",
          "name": "stderr",
          "text": []
        },
        {
          "output_type": "stream",
          "name": "stdout",
          "text": [
            "\tTrain Loss 0.0114\t Learning Rate 0.0000050\t Validation Loss 0.3416\n"
          ]
        },
        {
          "output_type": "execute_result",
          "data": {
            "text/plain": [
              "Text(0.5, 1.0, 'Validation loss')"
            ]
          },
          "metadata": {},
          "execution_count": 208
        },
        {
          "output_type": "display_data",
          "data": {
            "text/plain": [
              "<Figure size 2000x800 with 2 Axes>"
            ],
            "image/png": "[encoded data removed]"
          },
          "metadata": {}
        }
      ],
      "source": [
        "optimizer.param_groups[0]['lr']=0.0001\n",
        "\n",
        "epoch_plot=[]\n",
        "val_plot=[]\n",
        "num_epochs=300\n",
        "for epoch in range(0, num_epochs):\n",
        "\n",
        "    # Call train and validate \n",
        "    print(\"\\nEpoch: {}/{}\".format(epoch+1, num_epochs))\n",
        "    \n",
        "    curr_lr = float(optimizer.param_groups[0]['lr'])\n",
        "    \n",
        "    train_loss              = trainer.train()\n",
        "    epoch_plot.append(train_loss)\n",
        "\n",
        "    val_loss              = trainer.validate()\n",
        "    val_plot.append(val_loss)\n",
        "\n",
        "    # trainer.teacher_forcing_ratio=max(trainer.teacher_forcing_ratio-0.05,0.1)\n",
        "    scheduler.step()\n",
        "\n",
        "    print(\"\\tTrain Loss {:.04f}\\t Learning Rate {:.07f}\\t Validation Loss {:.04f}\".format(train_loss, curr_lr, val_loss))\n",
        "\n",
        "fig, ax=plt.subplots(1,2, figsize=(20,8))\n",
        "ax[0].plot(trainer.train_plot)\n",
        "ax[0].plot(epoch_plot)\n",
        "ax[0].set_ylabel(\"MSE Loss\")\n",
        "ax[0].set_xlabel(\"Epoch\")\n",
        "ax[0].set_title(\"Training loss\")\n",
        "\n",
        "ax[1].plot(val_plot)\n",
        "ax[1].set_ylabel(\"MSE Loss\")\n",
        "ax[1].set_xlabel(\"Epoch\")\n",
        "ax[1].set_title(\"Validation loss\")\n"
      ]
    },
    {
      "cell_type": "code",
      "source": [
        "from google.colab import drive\n",
        "drive.mount('/content/drive')"
      ],
      "metadata": {
        "colab": {
          "base_uri": "https://localhost:8080/"
        },
        "id": "Siv9KjrhEhKT",
        "outputId": "4071a57c-0291-4846-d3bd-78e389ca567a"
      },
      "execution_count": 23,
      "outputs": [
        {
          "output_type": "stream",
          "name": "stdout",
          "text": [
            "Mounted at /content/drive\n"
          ]
        }
      ]
    },
    {
      "cell_type": "code",
      "source": [
        "path=\"/content/drive/MyDrive/stockprices/checkpoint_google_2.pth\"\n",
        "torch.save({'model_state_dict':trainer.model.state_dict(),\n",
        "                  'optimizer_state_dict':trainer.optimizer.state_dict(),\n",
        "                  'epoch': epoch}, path)"
      ],
      "metadata": {
        "id": "L6P4w-ixEa3f"
      },
      "execution_count": null,
      "outputs": []
    },
    {
      "cell_type": "code",
      "source": [
        "path=\"/content/drive/MyDrive/stockprices/checkpoint_google_2.pth\"\n",
        "checkpoint = torch.load(path)\n",
        "model.load_state_dict(checkpoint['model_state_dict'])\n",
        "trainer.model=model"
      ],
      "metadata": {
        "id": "0-oNchzVck5-"
      },
      "execution_count": 24,
      "outputs": []
    },
    {
      "cell_type": "markdown",
      "metadata": {
        "id": "hgFYFaBGeBqM"
      },
      "source": [
        "# Testing"
      ]
    },
    {
      "cell_type": "code",
      "source": [
        "#window size: 65, context_len:5, pred_len: 5 \n",
        "prediction=trainer.test(test_loader)\n",
        "prediction=[i.cpu().detach().item() for i in prediction]"
      ],
      "metadata": {
        "colab": {
          "base_uri": "https://localhost:8080/"
        },
        "id": "G55fqZkxYKMq",
        "outputId": "c623746a-070a-4d03-a4af-aed7ff23a6c7"
      },
      "execution_count": 25,
      "outputs": [
        {
          "output_type": "stream",
          "name": "stderr",
          "text": []
        }
      ]
    },
    {
      "cell_type": "code",
      "source": [],
      "metadata": {
        "colab": {
          "base_uri": "https://localhost:8080/"
        },
        "id": "xrcvZsbd6yiB",
        "outputId": "6276a4ad-6981-4953-a90a-ff8274472e4f"
      },
      "execution_count": null,
      "outputs": [
        {
          "output_type": "execute_result",
          "data": {
            "text/plain": [
              "1178"
            ]
          },
          "metadata": {},
          "execution_count": 101
        }
      ]
    },
    {
      "cell_type": "code",
      "source": [
        "plt.figure(figsize=(10,8))\n",
        "plt.plot(np.array(dataset)[:,4], label='Actual Price', color='darkorange', linewidth=1)\n",
        "plt.plot(np.array(dataset)[:,8], label='Moving Average', color='cyan')\n",
        "plt.bar(x=np.arange(0,len(dataset)), height=np.array(dataset)[:,5]/5, label='Volume', color='lightskyblue', alpha=0.3)\n",
        "plt.annotate(\"GOOGL\",xy=(0.3,0.6),textcoords='offset points')\n",
        "plt.plot(np.arange(context_len,len(prediction)+context_len), prediction, label='Predicted Price',color='royalblue', linewidth=0.5)\n",
        "plt.axvline(x = 880, color='r', label=\"Model Blind Generates After\")\n",
        "plt.legend()\n"
      ],
      "metadata": {
        "colab": {
          "base_uri": "https://localhost:8080/",
          "height": 694
        },
        "id": "vgUeJvKzaIsb",
        "outputId": "a3485d16-2b56-4368-c29e-ac78c82c6ee2"
      },
      "execution_count": 26,
      "outputs": [
        {
          "output_type": "execute_result",
          "data": {
            "text/plain": [
              "<matplotlib.legend.Legend at 0x7f892b17e520>"
            ]
          },
          "metadata": {},
          "execution_count": 26
        },
        {
          "output_type": "display_data",
          "data": {
            "text/plain": [
              "<Figure size 1000x800 with 1 Axes>"
            ],
            "image/png": "[encoded data removed]"
          },
          "metadata": {}
        }
      ]
    },
    {
      "cell_type": "code",
      "execution_count": null,
      "metadata": {
        "id": "xErLx6lO4Zmp"
      },
      "outputs": [],
      "source": [
        "# #window size: 65, context_len:5, pred_len: 5 \n",
        "# pp=[]\n",
        "# pbar = tqdm(total=800,desc=\"predicting...\")\n",
        "# for i in range(800):\n",
        "#   query=dataset[context_len-1+i:window_size-1+i]\n",
        "#   tar=torch.FloatTensor(query).unsqueeze(0).to(device)   #1,5, 9\n",
        "#   src=torch.FloatTensor(dataset[0+i: context_len+i]).unsqueeze(0).to(device)   #1, 65,9\n",
        "\n",
        "#   out=trainer.model(src,tar) \n",
        "#   o=out.cpu().detach().numpy()[0,1]  \n",
        "#   pp.append(o)\n",
        "#   pbar.update()\n",
        "# pbar.close()\n",
        "# pp=np.squeeze(pp)\n",
        "# pp.shape"
      ]
    },
    {
      "cell_type": "code",
      "execution_count": null,
      "metadata": {
        "id": "Fkp-CqGp-mln"
      },
      "outputs": [],
      "source": [
        "# #0,'Time',1,'Open',2,'High',3,'Low',4,'Close',5,'Volume',6,'change',7,'delta',8,'Moving Average'\n",
        "# plt.figure(figsize=(10,8))\n",
        "# plt.plot(np.array(dataset)[:1100,4], label='Actual Price', color='darkorange', linewidth=1)\n",
        "# plt.plot(np.array(dataset)[:1100,8], label='Moving Average', color='cyan')\n",
        "# plt.bar(x=np.arange(0,1100), height=np.array(dataset)[:1100,5]/5, label='Volume', color='lightskyblue', alpha=0.3)\n",
        "# plt.annotate(\"GOOGL\",xy=(0.3,0.6),textcoords='offset points')\n",
        "# plt.plot(np.arange(context_len,800+context_len), pp, label='Predicted Price',color='royalblue', linewidth=0.5)\n",
        "# plt.legend()\n",
        "# # plt.ylim(200,400)"
      ]
    },
    {
      "cell_type": "code",
      "source": [
        "import seaborn as sns"
      ],
      "metadata": {
        "id": "VmMCITKNP39u"
      },
      "execution_count": null,
      "outputs": []
    },
    {
      "cell_type": "markdown",
      "metadata": {
        "id": "JmZhxhNseaIr"
      },
      "source": [
        "# Experiment"
      ]
    },
    {
      "cell_type": "code",
      "execution_count": null,
      "metadata": {
        "id": "sZcCV2BIW2R6"
      },
      "outputs": [],
      "source": [
        "# Login to Wandb\n",
        "# Initialize your Wandb Run Here\n",
        "# Save your model architecture in a txt file, and save the file to Wandb"
      ]
    },
    {
      "cell_type": "code",
      "execution_count": null,
      "metadata": {
        "id": "VxEFx7ipeCqJ"
      },
      "outputs": [],
      "source": [
        "# Optional: Load your best model Checkpoint here\n",
        "\n",
        "# TODO: Create a testing function similar to validation \n",
        "# TODO: Create a file with all predictions \n",
        "# TODO: Submit to Kaggle"
      ]
    }
  ],
  "metadata": {
    "accelerator": "GPU",
    "colab": {
      "provenance": []
    },
    "gpuClass": "standard",
    "kernelspec": {
      "display_name": "Python 3",
      "name": "python3"
    },
    "language_info": {
      "name": "python"
    }
  },
  "nbformat": 4,
  "nbformat_minor": 0
}